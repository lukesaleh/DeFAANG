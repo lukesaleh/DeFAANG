{
 "cells": [
  {
   "cell_type": "code",
   "execution_count": 76,
   "metadata": {},
   "outputs": [],
   "source": [
    "import pandas as pd\n",
    "import numpy as np\n",
    "import os, sys\n",
    "import matplotlib.pyplot as plt\n"
   ]
  },
  {
   "cell_type": "code",
   "execution_count": 77,
   "metadata": {},
   "outputs": [],
   "source": [
    "stock_a = pd.read_csv('../individual_stocks_5yr/individual_stocks_5yr/A_data.csv')\n",
    "stock_b = pd.read_csv('../individual_stocks_5yr/individual_stocks_5yr/LNT_data.csv')"
   ]
  },
  {
   "cell_type": "code",
   "execution_count": 78,
   "metadata": {},
   "outputs": [
    {
     "data": {
      "text/html": [
       "<div>\n",
       "<style scoped>\n",
       "    .dataframe tbody tr th:only-of-type {\n",
       "        vertical-align: middle;\n",
       "    }\n",
       "\n",
       "    .dataframe tbody tr th {\n",
       "        vertical-align: top;\n",
       "    }\n",
       "\n",
       "    .dataframe thead th {\n",
       "        text-align: right;\n",
       "    }\n",
       "</style>\n",
       "<table border=\"1\" class=\"dataframe\">\n",
       "  <thead>\n",
       "    <tr style=\"text-align: right;\">\n",
       "      <th></th>\n",
       "      <th>date</th>\n",
       "      <th>open</th>\n",
       "      <th>high</th>\n",
       "      <th>low</th>\n",
       "      <th>close</th>\n",
       "      <th>volume</th>\n",
       "      <th>Name</th>\n",
       "    </tr>\n",
       "  </thead>\n",
       "  <tbody>\n",
       "    <tr>\n",
       "      <th>0</th>\n",
       "      <td>2013-02-08</td>\n",
       "      <td>45.07</td>\n",
       "      <td>45.35</td>\n",
       "      <td>45.00</td>\n",
       "      <td>45.08</td>\n",
       "      <td>1824755</td>\n",
       "      <td>A</td>\n",
       "    </tr>\n",
       "    <tr>\n",
       "      <th>1</th>\n",
       "      <td>2013-02-11</td>\n",
       "      <td>45.17</td>\n",
       "      <td>45.18</td>\n",
       "      <td>44.45</td>\n",
       "      <td>44.60</td>\n",
       "      <td>2915405</td>\n",
       "      <td>A</td>\n",
       "    </tr>\n",
       "    <tr>\n",
       "      <th>2</th>\n",
       "      <td>2013-02-12</td>\n",
       "      <td>44.81</td>\n",
       "      <td>44.95</td>\n",
       "      <td>44.50</td>\n",
       "      <td>44.62</td>\n",
       "      <td>2373731</td>\n",
       "      <td>A</td>\n",
       "    </tr>\n",
       "    <tr>\n",
       "      <th>3</th>\n",
       "      <td>2013-02-13</td>\n",
       "      <td>44.81</td>\n",
       "      <td>45.24</td>\n",
       "      <td>44.68</td>\n",
       "      <td>44.75</td>\n",
       "      <td>2052338</td>\n",
       "      <td>A</td>\n",
       "    </tr>\n",
       "    <tr>\n",
       "      <th>4</th>\n",
       "      <td>2013-02-14</td>\n",
       "      <td>44.72</td>\n",
       "      <td>44.78</td>\n",
       "      <td>44.36</td>\n",
       "      <td>44.58</td>\n",
       "      <td>3826245</td>\n",
       "      <td>A</td>\n",
       "    </tr>\n",
       "  </tbody>\n",
       "</table>\n",
       "</div>"
      ],
      "text/plain": [
       "         date   open   high    low  close   volume Name\n",
       "0  2013-02-08  45.07  45.35  45.00  45.08  1824755    A\n",
       "1  2013-02-11  45.17  45.18  44.45  44.60  2915405    A\n",
       "2  2013-02-12  44.81  44.95  44.50  44.62  2373731    A\n",
       "3  2013-02-13  44.81  45.24  44.68  44.75  2052338    A\n",
       "4  2013-02-14  44.72  44.78  44.36  44.58  3826245    A"
      ]
     },
     "execution_count": 78,
     "metadata": {},
     "output_type": "execute_result"
    }
   ],
   "source": [
    "stock_a.head()"
   ]
  },
  {
   "cell_type": "code",
   "execution_count": 79,
   "metadata": {},
   "outputs": [
    {
     "data": {
      "text/html": [
       "<div>\n",
       "<style scoped>\n",
       "    .dataframe tbody tr th:only-of-type {\n",
       "        vertical-align: middle;\n",
       "    }\n",
       "\n",
       "    .dataframe tbody tr th {\n",
       "        vertical-align: top;\n",
       "    }\n",
       "\n",
       "    .dataframe thead th {\n",
       "        text-align: right;\n",
       "    }\n",
       "</style>\n",
       "<table border=\"1\" class=\"dataframe\">\n",
       "  <thead>\n",
       "    <tr style=\"text-align: right;\">\n",
       "      <th></th>\n",
       "      <th>date</th>\n",
       "      <th>open</th>\n",
       "      <th>high</th>\n",
       "      <th>low</th>\n",
       "      <th>close</th>\n",
       "      <th>volume</th>\n",
       "      <th>Name</th>\n",
       "    </tr>\n",
       "  </thead>\n",
       "  <tbody>\n",
       "    <tr>\n",
       "      <th>0</th>\n",
       "      <td>2013-02-08</td>\n",
       "      <td>23.140</td>\n",
       "      <td>23.210</td>\n",
       "      <td>23.0502</td>\n",
       "      <td>23.190</td>\n",
       "      <td>495972</td>\n",
       "      <td>LNT</td>\n",
       "    </tr>\n",
       "    <tr>\n",
       "      <th>1</th>\n",
       "      <td>2013-02-11</td>\n",
       "      <td>23.205</td>\n",
       "      <td>23.300</td>\n",
       "      <td>23.1250</td>\n",
       "      <td>23.255</td>\n",
       "      <td>530144</td>\n",
       "      <td>LNT</td>\n",
       "    </tr>\n",
       "    <tr>\n",
       "      <th>2</th>\n",
       "      <td>2013-02-12</td>\n",
       "      <td>23.220</td>\n",
       "      <td>23.415</td>\n",
       "      <td>23.2200</td>\n",
       "      <td>23.320</td>\n",
       "      <td>643436</td>\n",
       "      <td>LNT</td>\n",
       "    </tr>\n",
       "    <tr>\n",
       "      <th>3</th>\n",
       "      <td>2013-02-13</td>\n",
       "      <td>23.340</td>\n",
       "      <td>23.420</td>\n",
       "      <td>23.2250</td>\n",
       "      <td>23.305</td>\n",
       "      <td>874582</td>\n",
       "      <td>LNT</td>\n",
       "    </tr>\n",
       "    <tr>\n",
       "      <th>4</th>\n",
       "      <td>2013-02-14</td>\n",
       "      <td>23.265</td>\n",
       "      <td>23.560</td>\n",
       "      <td>23.1300</td>\n",
       "      <td>23.500</td>\n",
       "      <td>1191670</td>\n",
       "      <td>LNT</td>\n",
       "    </tr>\n",
       "  </tbody>\n",
       "</table>\n",
       "</div>"
      ],
      "text/plain": [
       "         date    open    high      low   close   volume Name\n",
       "0  2013-02-08  23.140  23.210  23.0502  23.190   495972  LNT\n",
       "1  2013-02-11  23.205  23.300  23.1250  23.255   530144  LNT\n",
       "2  2013-02-12  23.220  23.415  23.2200  23.320   643436  LNT\n",
       "3  2013-02-13  23.340  23.420  23.2250  23.305   874582  LNT\n",
       "4  2013-02-14  23.265  23.560  23.1300  23.500  1191670  LNT"
      ]
     },
     "execution_count": 79,
     "metadata": {},
     "output_type": "execute_result"
    }
   ],
   "source": [
    "stock_b.head()"
   ]
  },
  {
   "cell_type": "code",
   "execution_count": 80,
   "metadata": {},
   "outputs": [
    {
     "data": {
      "text/html": [
       "<div>\n",
       "<style scoped>\n",
       "    .dataframe tbody tr th:only-of-type {\n",
       "        vertical-align: middle;\n",
       "    }\n",
       "\n",
       "    .dataframe tbody tr th {\n",
       "        vertical-align: top;\n",
       "    }\n",
       "\n",
       "    .dataframe thead th {\n",
       "        text-align: right;\n",
       "    }\n",
       "</style>\n",
       "<table border=\"1\" class=\"dataframe\">\n",
       "  <thead>\n",
       "    <tr style=\"text-align: right;\">\n",
       "      <th></th>\n",
       "      <th>open</th>\n",
       "      <th>high</th>\n",
       "      <th>low</th>\n",
       "      <th>close</th>\n",
       "      <th>volume</th>\n",
       "    </tr>\n",
       "  </thead>\n",
       "  <tbody>\n",
       "    <tr>\n",
       "      <th>count</th>\n",
       "      <td>1259.000000</td>\n",
       "      <td>1259.000000</td>\n",
       "      <td>1259.000000</td>\n",
       "      <td>1259.000000</td>\n",
       "      <td>1.259000e+03</td>\n",
       "    </tr>\n",
       "    <tr>\n",
       "      <th>mean</th>\n",
       "      <td>49.187863</td>\n",
       "      <td>49.600059</td>\n",
       "      <td>48.782026</td>\n",
       "      <td>49.202025</td>\n",
       "      <td>2.338039e+06</td>\n",
       "    </tr>\n",
       "    <tr>\n",
       "      <th>std</th>\n",
       "      <td>9.244798</td>\n",
       "      <td>9.264168</td>\n",
       "      <td>9.197698</td>\n",
       "      <td>9.229804</td>\n",
       "      <td>1.400161e+06</td>\n",
       "    </tr>\n",
       "    <tr>\n",
       "      <th>min</th>\n",
       "      <td>33.180000</td>\n",
       "      <td>34.060000</td>\n",
       "      <td>33.115000</td>\n",
       "      <td>33.370000</td>\n",
       "      <td>5.328630e+05</td>\n",
       "    </tr>\n",
       "    <tr>\n",
       "      <th>25%</th>\n",
       "      <td>41.515000</td>\n",
       "      <td>41.870000</td>\n",
       "      <td>41.260000</td>\n",
       "      <td>41.560000</td>\n",
       "      <td>1.533018e+06</td>\n",
       "    </tr>\n",
       "    <tr>\n",
       "      <th>50%</th>\n",
       "      <td>46.640000</td>\n",
       "      <td>47.000000</td>\n",
       "      <td>46.341000</td>\n",
       "      <td>46.700000</td>\n",
       "      <td>2.003109e+06</td>\n",
       "    </tr>\n",
       "    <tr>\n",
       "      <th>75%</th>\n",
       "      <td>56.435000</td>\n",
       "      <td>56.935000</td>\n",
       "      <td>56.025000</td>\n",
       "      <td>56.495000</td>\n",
       "      <td>2.718401e+06</td>\n",
       "    </tr>\n",
       "    <tr>\n",
       "      <th>max</th>\n",
       "      <td>74.480000</td>\n",
       "      <td>75.000000</td>\n",
       "      <td>74.300000</td>\n",
       "      <td>74.820000</td>\n",
       "      <td>1.814641e+07</td>\n",
       "    </tr>\n",
       "  </tbody>\n",
       "</table>\n",
       "</div>"
      ],
      "text/plain": [
       "              open         high          low        close        volume\n",
       "count  1259.000000  1259.000000  1259.000000  1259.000000  1.259000e+03\n",
       "mean     49.187863    49.600059    48.782026    49.202025  2.338039e+06\n",
       "std       9.244798     9.264168     9.197698     9.229804  1.400161e+06\n",
       "min      33.180000    34.060000    33.115000    33.370000  5.328630e+05\n",
       "25%      41.515000    41.870000    41.260000    41.560000  1.533018e+06\n",
       "50%      46.640000    47.000000    46.341000    46.700000  2.003109e+06\n",
       "75%      56.435000    56.935000    56.025000    56.495000  2.718401e+06\n",
       "max      74.480000    75.000000    74.300000    74.820000  1.814641e+07"
      ]
     },
     "execution_count": 80,
     "metadata": {},
     "output_type": "execute_result"
    }
   ],
   "source": [
    "stock_a.describe()"
   ]
  },
  {
   "cell_type": "code",
   "execution_count": 81,
   "metadata": {},
   "outputs": [
    {
     "data": {
      "text/html": [
       "<div>\n",
       "<style scoped>\n",
       "    .dataframe tbody tr th:only-of-type {\n",
       "        vertical-align: middle;\n",
       "    }\n",
       "\n",
       "    .dataframe tbody tr th {\n",
       "        vertical-align: top;\n",
       "    }\n",
       "\n",
       "    .dataframe thead th {\n",
       "        text-align: right;\n",
       "    }\n",
       "</style>\n",
       "<table border=\"1\" class=\"dataframe\">\n",
       "  <thead>\n",
       "    <tr style=\"text-align: right;\">\n",
       "      <th></th>\n",
       "      <th>open</th>\n",
       "      <th>high</th>\n",
       "      <th>low</th>\n",
       "      <th>close</th>\n",
       "      <th>volume</th>\n",
       "    </tr>\n",
       "  </thead>\n",
       "  <tbody>\n",
       "    <tr>\n",
       "      <th>count</th>\n",
       "      <td>1259.000000</td>\n",
       "      <td>1259.000000</td>\n",
       "      <td>1259.000000</td>\n",
       "      <td>1259.000000</td>\n",
       "      <td>1.259000e+03</td>\n",
       "    </tr>\n",
       "    <tr>\n",
       "      <th>mean</th>\n",
       "      <td>32.785743</td>\n",
       "      <td>33.021742</td>\n",
       "      <td>32.542765</td>\n",
       "      <td>32.786640</td>\n",
       "      <td>1.230026e+06</td>\n",
       "    </tr>\n",
       "    <tr>\n",
       "      <th>std</th>\n",
       "      <td>5.934214</td>\n",
       "      <td>5.963851</td>\n",
       "      <td>5.899969</td>\n",
       "      <td>5.950278</td>\n",
       "      <td>1.527472e+06</td>\n",
       "    </tr>\n",
       "    <tr>\n",
       "      <th>min</th>\n",
       "      <td>23.140000</td>\n",
       "      <td>23.210000</td>\n",
       "      <td>23.050200</td>\n",
       "      <td>17.870000</td>\n",
       "      <td>2.932130e+05</td>\n",
       "    </tr>\n",
       "    <tr>\n",
       "      <th>25%</th>\n",
       "      <td>28.117500</td>\n",
       "      <td>28.387500</td>\n",
       "      <td>27.862500</td>\n",
       "      <td>28.155000</td>\n",
       "      <td>8.510420e+05</td>\n",
       "    </tr>\n",
       "    <tr>\n",
       "      <th>50%</th>\n",
       "      <td>31.110000</td>\n",
       "      <td>31.345000</td>\n",
       "      <td>30.853800</td>\n",
       "      <td>31.140000</td>\n",
       "      <td>1.093769e+06</td>\n",
       "    </tr>\n",
       "    <tr>\n",
       "      <th>75%</th>\n",
       "      <td>38.245000</td>\n",
       "      <td>38.550000</td>\n",
       "      <td>37.835000</td>\n",
       "      <td>38.235000</td>\n",
       "      <td>1.405287e+06</td>\n",
       "    </tr>\n",
       "    <tr>\n",
       "      <th>max</th>\n",
       "      <td>45.300000</td>\n",
       "      <td>45.550000</td>\n",
       "      <td>44.870000</td>\n",
       "      <td>45.180000</td>\n",
       "      <td>5.188082e+07</td>\n",
       "    </tr>\n",
       "  </tbody>\n",
       "</table>\n",
       "</div>"
      ],
      "text/plain": [
       "              open         high          low        close        volume\n",
       "count  1259.000000  1259.000000  1259.000000  1259.000000  1.259000e+03\n",
       "mean     32.785743    33.021742    32.542765    32.786640  1.230026e+06\n",
       "std       5.934214     5.963851     5.899969     5.950278  1.527472e+06\n",
       "min      23.140000    23.210000    23.050200    17.870000  2.932130e+05\n",
       "25%      28.117500    28.387500    27.862500    28.155000  8.510420e+05\n",
       "50%      31.110000    31.345000    30.853800    31.140000  1.093769e+06\n",
       "75%      38.245000    38.550000    37.835000    38.235000  1.405287e+06\n",
       "max      45.300000    45.550000    44.870000    45.180000  5.188082e+07"
      ]
     },
     "execution_count": 81,
     "metadata": {},
     "output_type": "execute_result"
    }
   ],
   "source": [
    "stock_b.describe()"
   ]
  },
  {
   "cell_type": "code",
   "execution_count": 82,
   "metadata": {},
   "outputs": [
    {
     "data": {
      "text/plain": [
       "dtype('float64')"
      ]
     },
     "execution_count": 82,
     "metadata": {},
     "output_type": "execute_result"
    }
   ],
   "source": [
    "stock_b.open.dtype"
   ]
  },
  {
   "cell_type": "code",
   "execution_count": 83,
   "metadata": {},
   "outputs": [],
   "source": [
    "b_dates = stock_b.date.unique()\n",
    "a_dates = stock_a.date.unique()"
   ]
  },
  {
   "cell_type": "code",
   "execution_count": 84,
   "metadata": {},
   "outputs": [
    {
     "data": {
      "text/plain": [
       "[]"
      ]
     },
     "execution_count": 84,
     "metadata": {},
     "output_type": "execute_result"
    }
   ],
   "source": [
    "res = [ele for ele in b_dates if ele not in a_dates]\n",
    "res"
   ]
  },
  {
   "cell_type": "code",
   "execution_count": 85,
   "metadata": {},
   "outputs": [
    {
     "data": {
      "text/plain": [
       "43"
      ]
     },
     "execution_count": 85,
     "metadata": {},
     "output_type": "execute_result"
    }
   ],
   "source": [
    "indices = [i for i in range(len(stock_a.index)) if i %30 == 0 or i == stock_a.index[-1]]\n",
    "len(indices)"
   ]
  },
  {
   "cell_type": "code",
   "execution_count": 86,
   "metadata": {},
   "outputs": [],
   "source": [
    "change = []\n",
    "dates = []\n",
    "for i in range(len(indices)-1):\n",
    "    opening = indices[i]\n",
    "    closing = indices[i+1]\n",
    "    change.append(stock_a.open.iloc[closing] - stock_a.close.iloc[opening])\n",
    "for i in range(len(indices)):\n",
    "    dates.append(stock_a.date.iloc[indices[i]])"
   ]
  },
  {
   "cell_type": "code",
   "execution_count": 95,
   "metadata": {},
   "outputs": [],
   "source": [
    "def percent_change(stock_df):\n",
    "    indices = [i for i in range(len(stock_df.index)) if i %30 == 0 or i == stock_df.index[-1]]\n",
    "    change = []\n",
    "    for i in range(len(indices)-1):\n",
    "        opening = indices[i]\n",
    "        closing = indices[i+1]\n",
    "        change.append(stock_df.close.iloc[closing] - stock_df.open.iloc[opening] / stock_df.open.iloc[opening])\n",
    "    return change"
   ]
  },
  {
   "cell_type": "code",
   "execution_count": 101,
   "metadata": {},
   "outputs": [
    {
     "data": {
      "text/plain": [
       "[<matplotlib.lines.Line2D at 0x271f267f3b0>]"
      ]
     },
     "execution_count": 101,
     "metadata": {},
     "output_type": "execute_result"
    },
    {
     "data": {
      "image/png": "[encoded data removed]",
      "text/plain": [
       "<Figure size 640x480 with 1 Axes>"
      ]
     },
     "metadata": {},
     "output_type": "display_data"
    }
   ],
   "source": [
    "plt.plot(percent_change(stock_a))"
   ]
  },
  {
   "cell_type": "code",
   "execution_count": 102,
   "metadata": {},
   "outputs": [
    {
     "data": {
      "text/plain": [
       "[<matplotlib.lines.Line2D at 0x271f494d9d0>]"
      ]
     },
     "execution_count": 102,
     "metadata": {},
     "output_type": "execute_result"
    },
    {
     "data": {
      "image/png": "[encoded data removed]",
      "text/plain": [
       "<Figure size 640x480 with 1 Axes>"
      ]
     },
     "metadata": {},
     "output_type": "display_data"
    }
   ],
   "source": [
    "plt.plot(percent_change(stock_b))"
   ]
  }
 ],
 "metadata": {
  "kernelspec": {
   "display_name": "Python 3",
   "language": "python",
   "name": "python3"
  },
  "language_info": {
   "codemirror_mode": {
    "name": "ipython",
    "version": 3
   },
   "file_extension": ".py",
   "mimetype": "text/x-python",
   "name": "python",
   "nbconvert_exporter": "python",
   "pygments_lexer": "ipython3",
   "version": "3.12.0"
  }
 },
 "nbformat": 4,
 "nbformat_minor": 2
}

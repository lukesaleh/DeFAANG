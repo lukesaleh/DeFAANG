{
 "cells": [
  {
   "cell_type": "code",
   "execution_count": 17,
   "metadata": {},
   "outputs": [],
   "source": [
    "import pandas as pd\n",
    "import numpy as np\n",
    "import os, sys\n",
    "import matplotlib.pyplot as plt\n",
    "import itertools\n",
    "import pickle"
   ]
  },
  {
   "cell_type": "code",
   "execution_count": 18,
   "metadata": {},
   "outputs": [],
   "source": [
    "stock_a = pd.read_csv('../individual_stocks_5yr/AAPL_data.csv')\n",
    "stock_b = pd.read_csv('../individual_stocks_5yr/MAT_data.csv')"
   ]
  },
  {
   "cell_type": "code",
   "execution_count": 19,
   "metadata": {},
   "outputs": [
    {
     "data": {
      "text/plain": "         date     open     high      low    close     volume  Name\n0  2013-02-08  67.7142  68.4014  66.8928  67.8542  158168416  AAPL\n1  2013-02-11  68.0714  69.2771  67.6071  68.5614  129029425  AAPL\n2  2013-02-12  68.5014  68.9114  66.8205  66.8428  151829363  AAPL\n3  2013-02-13  66.7442  67.6628  66.1742  66.7156  118721995  AAPL\n4  2013-02-14  66.3599  67.3771  66.2885  66.6556   88809154  AAPL",
      "text/html": "<div>\n<style scoped>\n    .dataframe tbody tr th:only-of-type {\n        vertical-align: middle;\n    }\n\n    .dataframe tbody tr th {\n        vertical-align: top;\n    }\n\n    .dataframe thead th {\n        text-align: right;\n    }\n</style>\n<table border=\"1\" class=\"dataframe\">\n  <thead>\n    <tr style=\"text-align: right;\">\n      <th></th>\n      <th>date</th>\n      <th>open</th>\n      <th>high</th>\n      <th>low</th>\n      <th>close</th>\n      <th>volume</th>\n      <th>Name</th>\n    </tr>\n  </thead>\n  <tbody>\n    <tr>\n      <th>0</th>\n      <td>2013-02-08</td>\n      <td>67.7142</td>\n      <td>68.4014</td>\n      <td>66.8928</td>\n      <td>67.8542</td>\n      <td>158168416</td>\n      <td>AAPL</td>\n    </tr>\n    <tr>\n      <th>1</th>\n      <td>2013-02-11</td>\n      <td>68.0714</td>\n      <td>69.2771</td>\n      <td>67.6071</td>\n      <td>68.5614</td>\n      <td>129029425</td>\n      <td>AAPL</td>\n    </tr>\n    <tr>\n      <th>2</th>\n      <td>2013-02-12</td>\n      <td>68.5014</td>\n      <td>68.9114</td>\n      <td>66.8205</td>\n      <td>66.8428</td>\n      <td>151829363</td>\n      <td>AAPL</td>\n    </tr>\n    <tr>\n      <th>3</th>\n      <td>2013-02-13</td>\n      <td>66.7442</td>\n      <td>67.6628</td>\n      <td>66.1742</td>\n      <td>66.7156</td>\n      <td>118721995</td>\n      <td>AAPL</td>\n    </tr>\n    <tr>\n      <th>4</th>\n      <td>2013-02-14</td>\n      <td>66.3599</td>\n      <td>67.3771</td>\n      <td>66.2885</td>\n      <td>66.6556</td>\n      <td>88809154</td>\n      <td>AAPL</td>\n    </tr>\n  </tbody>\n</table>\n</div>"
     },
     "execution_count": 19,
     "metadata": {},
     "output_type": "execute_result"
    }
   ],
   "source": [
    "stock_a.head()"
   ]
  },
  {
   "cell_type": "code",
   "execution_count": 20,
   "metadata": {},
   "outputs": [
    {
     "data": {
      "text/plain": "         date   open   high     low  close   volume Name\n0  2013-02-08  39.59  40.40  39.590  40.32  3665554  MAT\n1  2013-02-11  40.26  40.47  40.080  40.27  2598843  MAT\n2  2013-02-12  40.31  40.69  40.295  40.67  2914847  MAT\n3  2013-02-13  40.81  41.10  40.620  40.99  2489158  MAT\n4  2013-02-14  41.08  41.19  40.780  41.15  2903038  MAT",
      "text/html": "<div>\n<style scoped>\n    .dataframe tbody tr th:only-of-type {\n        vertical-align: middle;\n    }\n\n    .dataframe tbody tr th {\n        vertical-align: top;\n    }\n\n    .dataframe thead th {\n        text-align: right;\n    }\n</style>\n<table border=\"1\" class=\"dataframe\">\n  <thead>\n    <tr style=\"text-align: right;\">\n      <th></th>\n      <th>date</th>\n      <th>open</th>\n      <th>high</th>\n      <th>low</th>\n      <th>close</th>\n      <th>volume</th>\n      <th>Name</th>\n    </tr>\n  </thead>\n  <tbody>\n    <tr>\n      <th>0</th>\n      <td>2013-02-08</td>\n      <td>39.59</td>\n      <td>40.40</td>\n      <td>39.590</td>\n      <td>40.32</td>\n      <td>3665554</td>\n      <td>MAT</td>\n    </tr>\n    <tr>\n      <th>1</th>\n      <td>2013-02-11</td>\n      <td>40.26</td>\n      <td>40.47</td>\n      <td>40.080</td>\n      <td>40.27</td>\n      <td>2598843</td>\n      <td>MAT</td>\n    </tr>\n    <tr>\n      <th>2</th>\n      <td>2013-02-12</td>\n      <td>40.31</td>\n      <td>40.69</td>\n      <td>40.295</td>\n      <td>40.67</td>\n      <td>2914847</td>\n      <td>MAT</td>\n    </tr>\n    <tr>\n      <th>3</th>\n      <td>2013-02-13</td>\n      <td>40.81</td>\n      <td>41.10</td>\n      <td>40.620</td>\n      <td>40.99</td>\n      <td>2489158</td>\n      <td>MAT</td>\n    </tr>\n    <tr>\n      <th>4</th>\n      <td>2013-02-14</td>\n      <td>41.08</td>\n      <td>41.19</td>\n      <td>40.780</td>\n      <td>41.15</td>\n      <td>2903038</td>\n      <td>MAT</td>\n    </tr>\n  </tbody>\n</table>\n</div>"
     },
     "execution_count": 20,
     "metadata": {},
     "output_type": "execute_result"
    }
   ],
   "source": [
    "stock_b.head()"
   ]
  },
  {
   "cell_type": "code",
   "execution_count": 21,
   "metadata": {},
   "outputs": [
    {
     "data": {
      "text/plain": "              open         high          low        close        volume\ncount  1259.000000  1259.000000  1259.000000  1259.000000  1.259000e+03\nmean    109.055429   109.951118   108.141589   109.066698  5.404790e+07\nstd      30.549220    30.686186    30.376224    30.556812  3.346835e+07\nmin      55.424200    57.085700    55.014200    55.789900  1.147592e+07\n25%      84.647800    85.334950    84.250650    84.830650  2.969438e+07\n50%     108.970000   110.030000   108.050000   109.010000  4.566893e+07\n75%     127.335000   128.100000   126.290000   127.120000  6.870872e+07\nmax     179.370000   180.100000   178.250000   179.260000  2.668336e+08",
      "text/html": "<div>\n<style scoped>\n    .dataframe tbody tr th:only-of-type {\n        vertical-align: middle;\n    }\n\n    .dataframe tbody tr th {\n        vertical-align: top;\n    }\n\n    .dataframe thead th {\n        text-align: right;\n    }\n</style>\n<table border=\"1\" class=\"dataframe\">\n  <thead>\n    <tr style=\"text-align: right;\">\n      <th></th>\n      <th>open</th>\n      <th>high</th>\n      <th>low</th>\n      <th>close</th>\n      <th>volume</th>\n    </tr>\n  </thead>\n  <tbody>\n    <tr>\n      <th>count</th>\n      <td>1259.000000</td>\n      <td>1259.000000</td>\n      <td>1259.000000</td>\n      <td>1259.000000</td>\n      <td>1.259000e+03</td>\n    </tr>\n    <tr>\n      <th>mean</th>\n      <td>109.055429</td>\n      <td>109.951118</td>\n      <td>108.141589</td>\n      <td>109.066698</td>\n      <td>5.404790e+07</td>\n    </tr>\n    <tr>\n      <th>std</th>\n      <td>30.549220</td>\n      <td>30.686186</td>\n      <td>30.376224</td>\n      <td>30.556812</td>\n      <td>3.346835e+07</td>\n    </tr>\n    <tr>\n      <th>min</th>\n      <td>55.424200</td>\n      <td>57.085700</td>\n      <td>55.014200</td>\n      <td>55.789900</td>\n      <td>1.147592e+07</td>\n    </tr>\n    <tr>\n      <th>25%</th>\n      <td>84.647800</td>\n      <td>85.334950</td>\n      <td>84.250650</td>\n      <td>84.830650</td>\n      <td>2.969438e+07</td>\n    </tr>\n    <tr>\n      <th>50%</th>\n      <td>108.970000</td>\n      <td>110.030000</td>\n      <td>108.050000</td>\n      <td>109.010000</td>\n      <td>4.566893e+07</td>\n    </tr>\n    <tr>\n      <th>75%</th>\n      <td>127.335000</td>\n      <td>128.100000</td>\n      <td>126.290000</td>\n      <td>127.120000</td>\n      <td>6.870872e+07</td>\n    </tr>\n    <tr>\n      <th>max</th>\n      <td>179.370000</td>\n      <td>180.100000</td>\n      <td>178.250000</td>\n      <td>179.260000</td>\n      <td>2.668336e+08</td>\n    </tr>\n  </tbody>\n</table>\n</div>"
     },
     "execution_count": 21,
     "metadata": {},
     "output_type": "execute_result"
    }
   ],
   "source": [
    "stock_a.describe()"
   ]
  },
  {
   "cell_type": "code",
   "execution_count": 22,
   "metadata": {},
   "outputs": [
    {
     "data": {
      "text/plain": "              open         high          low        close        volume\ncount  1259.000000  1259.000000  1259.000000  1259.000000  1.259000e+03\nmean     30.857838    31.164469    30.526128    30.843691  4.793055e+06\nstd       8.735271     8.745130     8.729190     8.731614  4.453628e+06\nmin      12.900000    13.180000    12.710000    13.040000  8.446740e+05\n25%      24.790000    25.085000    24.450000    24.800000  2.540180e+06\n50%      30.730000    31.100000    30.410000    30.770000  3.691270e+06\n75%      38.315000    38.710000    38.040000    38.430000  5.488780e+06\nmax      47.780000    48.480000    47.400000    47.820000  6.644074e+07",
      "text/html": "<div>\n<style scoped>\n    .dataframe tbody tr th:only-of-type {\n        vertical-align: middle;\n    }\n\n    .dataframe tbody tr th {\n        vertical-align: top;\n    }\n\n    .dataframe thead th {\n        text-align: right;\n    }\n</style>\n<table border=\"1\" class=\"dataframe\">\n  <thead>\n    <tr style=\"text-align: right;\">\n      <th></th>\n      <th>open</th>\n      <th>high</th>\n      <th>low</th>\n      <th>close</th>\n      <th>volume</th>\n    </tr>\n  </thead>\n  <tbody>\n    <tr>\n      <th>count</th>\n      <td>1259.000000</td>\n      <td>1259.000000</td>\n      <td>1259.000000</td>\n      <td>1259.000000</td>\n      <td>1.259000e+03</td>\n    </tr>\n    <tr>\n      <th>mean</th>\n      <td>30.857838</td>\n      <td>31.164469</td>\n      <td>30.526128</td>\n      <td>30.843691</td>\n      <td>4.793055e+06</td>\n    </tr>\n    <tr>\n      <th>std</th>\n      <td>8.735271</td>\n      <td>8.745130</td>\n      <td>8.729190</td>\n      <td>8.731614</td>\n      <td>4.453628e+06</td>\n    </tr>\n    <tr>\n      <th>min</th>\n      <td>12.900000</td>\n      <td>13.180000</td>\n      <td>12.710000</td>\n      <td>13.040000</td>\n      <td>8.446740e+05</td>\n    </tr>\n    <tr>\n      <th>25%</th>\n      <td>24.790000</td>\n      <td>25.085000</td>\n      <td>24.450000</td>\n      <td>24.800000</td>\n      <td>2.540180e+06</td>\n    </tr>\n    <tr>\n      <th>50%</th>\n      <td>30.730000</td>\n      <td>31.100000</td>\n      <td>30.410000</td>\n      <td>30.770000</td>\n      <td>3.691270e+06</td>\n    </tr>\n    <tr>\n      <th>75%</th>\n      <td>38.315000</td>\n      <td>38.710000</td>\n      <td>38.040000</td>\n      <td>38.430000</td>\n      <td>5.488780e+06</td>\n    </tr>\n    <tr>\n      <th>max</th>\n      <td>47.780000</td>\n      <td>48.480000</td>\n      <td>47.400000</td>\n      <td>47.820000</td>\n      <td>6.644074e+07</td>\n    </tr>\n  </tbody>\n</table>\n</div>"
     },
     "execution_count": 22,
     "metadata": {},
     "output_type": "execute_result"
    }
   ],
   "source": [
    "stock_b.describe()"
   ]
  },
  {
   "cell_type": "code",
   "execution_count": 23,
   "metadata": {},
   "outputs": [
    {
     "data": {
      "text/plain": "dtype('float64')"
     },
     "execution_count": 23,
     "metadata": {},
     "output_type": "execute_result"
    }
   ],
   "source": [
    "stock_b.open.dtype"
   ]
  },
  {
   "cell_type": "code",
   "execution_count": 24,
   "metadata": {},
   "outputs": [],
   "source": [
    "b_dates = stock_b.date.unique()\n",
    "a_dates = stock_a.date.unique()"
   ]
  },
  {
   "cell_type": "code",
   "execution_count": 25,
   "metadata": {},
   "outputs": [
    {
     "data": {
      "text/plain": "[]"
     },
     "execution_count": 25,
     "metadata": {},
     "output_type": "execute_result"
    }
   ],
   "source": [
    "res = [ele for ele in b_dates if ele not in a_dates]\n",
    "res"
   ]
  },
  {
   "cell_type": "code",
   "execution_count": 26,
   "metadata": {},
   "outputs": [
    {
     "data": {
      "text/plain": "253"
     },
     "execution_count": 26,
     "metadata": {},
     "output_type": "execute_result"
    }
   ],
   "source": [
    "indices = [i for i in range(len(stock_a.index)) if i %5 == 0 or i == stock_a.index[-1]]\n",
    "len(indices)"
   ]
  },
  {
   "cell_type": "code",
   "execution_count": 27,
   "metadata": {},
   "outputs": [],
   "source": [
    "change = []\n",
    "dates = []\n",
    "for i in range(len(indices)-1):\n",
    "    opening = indices[i]\n",
    "    closing = indices[i+1]\n",
    "    change.append(stock_a.open.iloc[closing] - stock_a.close.iloc[opening])\n",
    "for i in range(len(indices)):\n",
    "    dates.append(stock_a.date.iloc[indices[i]])"
   ]
  },
  {
   "cell_type": "code",
   "execution_count": 28,
   "metadata": {},
   "outputs": [],
   "source": [
    "def percent_change(stock_df):\n",
    "    indices = [i for i in range(len(stock_df.index)) if i %30 == 0 or i == stock_df.index[-1]]\n",
    "    change = []\n",
    "    for i in range(len(indices)-1):\n",
    "        opening = indices[i]\n",
    "        closing = indices[i+1]\n",
    "        change.append((stock_df.close.iloc[closing] - stock_df.open.iloc[opening] / stock_df.open.iloc[opening]))\n",
    "    return change"
   ]
  },
  {
   "cell_type": "code",
   "execution_count": 29,
   "metadata": {},
   "outputs": [
    {
     "data": {
      "text/plain": "[<matplotlib.lines.Line2D at 0x127bc3ca0>]"
     },
     "execution_count": 29,
     "metadata": {},
     "output_type": "execute_result"
    },
    {
     "data": {
      "text/plain": "<Figure size 640x480 with 1 Axes>",
      "image/png": "[encoded data removed]"
     },
     "metadata": {},
     "output_type": "display_data"
    }
   ],
   "source": [
    "plt.plot(percent_change(stock_a))"
   ]
  },
  {
   "cell_type": "code",
   "execution_count": 30,
   "metadata": {},
   "outputs": [
    {
     "data": {
      "text/plain": "[<matplotlib.lines.Line2D at 0x127c37f10>]"
     },
     "execution_count": 30,
     "metadata": {},
     "output_type": "execute_result"
    },
    {
     "data": {
      "text/plain": "<Figure size 640x480 with 1 Axes>",
      "image/png": "[encoded data removed]"
     },
     "metadata": {},
     "output_type": "display_data"
    }
   ],
   "source": [
    "plt.plot(percent_change(stock_b))"
   ]
  },
  {
   "cell_type": "code",
   "execution_count": 133,
   "metadata": {},
   "outputs": [
    {
     "data": {
      "text/html": [
       "<div>\n",
       "<style scoped>\n",
       "    .dataframe tbody tr th:only-of-type {\n",
       "        vertical-align: middle;\n",
       "    }\n",
       "\n",
       "    .dataframe tbody tr th {\n",
       "        vertical-align: top;\n",
       "    }\n",
       "\n",
       "    .dataframe thead th {\n",
       "        text-align: right;\n",
       "    }\n",
       "</style>\n",
       "<table border=\"1\" class=\"dataframe\">\n",
       "  <thead>\n",
       "    <tr style=\"text-align: right;\">\n",
       "      <th></th>\n",
       "      <th>date</th>\n",
       "      <th>open</th>\n",
       "      <th>high</th>\n",
       "      <th>low</th>\n",
       "      <th>close</th>\n",
       "      <th>volume</th>\n",
       "      <th>Name</th>\n",
       "      <th>daily_change</th>\n",
       "    </tr>\n",
       "  </thead>\n",
       "  <tbody>\n",
       "    <tr>\n",
       "      <th>0</th>\n",
       "      <td>2013-02-08</td>\n",
       "      <td>67.7142</td>\n",
       "      <td>68.4014</td>\n",
       "      <td>66.8928</td>\n",
       "      <td>67.8542</td>\n",
       "      <td>158168416</td>\n",
       "      <td>AAPL</td>\n",
       "      <td>0.1400</td>\n",
       "    </tr>\n",
       "    <tr>\n",
       "      <th>1</th>\n",
       "      <td>2013-02-11</td>\n",
       "      <td>68.0714</td>\n",
       "      <td>69.2771</td>\n",
       "      <td>67.6071</td>\n",
       "      <td>68.5614</td>\n",
       "      <td>129029425</td>\n",
       "      <td>AAPL</td>\n",
       "      <td>0.4900</td>\n",
       "    </tr>\n",
       "    <tr>\n",
       "      <th>2</th>\n",
       "      <td>2013-02-12</td>\n",
       "      <td>68.5014</td>\n",
       "      <td>68.9114</td>\n",
       "      <td>66.8205</td>\n",
       "      <td>66.8428</td>\n",
       "      <td>151829363</td>\n",
       "      <td>AAPL</td>\n",
       "      <td>-1.6586</td>\n",
       "    </tr>\n",
       "    <tr>\n",
       "      <th>3</th>\n",
       "      <td>2013-02-13</td>\n",
       "      <td>66.7442</td>\n",
       "      <td>67.6628</td>\n",
       "      <td>66.1742</td>\n",
       "      <td>66.7156</td>\n",
       "      <td>118721995</td>\n",
       "      <td>AAPL</td>\n",
       "      <td>-0.0286</td>\n",
       "    </tr>\n",
       "    <tr>\n",
       "      <th>4</th>\n",
       "      <td>2013-02-14</td>\n",
       "      <td>66.3599</td>\n",
       "      <td>67.3771</td>\n",
       "      <td>66.2885</td>\n",
       "      <td>66.6556</td>\n",
       "      <td>88809154</td>\n",
       "      <td>AAPL</td>\n",
       "      <td>0.2957</td>\n",
       "    </tr>\n",
       "  </tbody>\n",
       "</table>\n",
       "</div>"
      ],
      "text/plain": [
       "         date     open     high      low    close     volume  Name  \\\n",
       "0  2013-02-08  67.7142  68.4014  66.8928  67.8542  158168416  AAPL   \n",
       "1  2013-02-11  68.0714  69.2771  67.6071  68.5614  129029425  AAPL   \n",
       "2  2013-02-12  68.5014  68.9114  66.8205  66.8428  151829363  AAPL   \n",
       "3  2013-02-13  66.7442  67.6628  66.1742  66.7156  118721995  AAPL   \n",
       "4  2013-02-14  66.3599  67.3771  66.2885  66.6556   88809154  AAPL   \n",
       "\n",
       "   daily_change  \n",
       "0        0.1400  \n",
       "1        0.4900  \n",
       "2       -1.6586  \n",
       "3       -0.0286  \n",
       "4        0.2957  "
      ]
     },
     "execution_count": 133,
     "metadata": {},
     "output_type": "execute_result"
    }
   ],
   "source": [
    "stocks = pd.concat([stock_a, stock_b], ignore_index=True)\n",
    "stocks['daily_change'] = stocks['close'] - stocks['open']\n",
    "stocks.head()"
   ]
  },
  {
   "cell_type": "code",
   "execution_count": 134,
   "metadata": {},
   "outputs": [],
   "source": [
    "stock_a['daily_change'] = 100*(stock_a['close'] - stock_a['open'])/stock_a['open']\n",
    "stock_b['daily_change'] = 100*(stock_b['close'] - stock_b['open'])/stock_b['open']"
   ]
  },
  {
   "cell_type": "code",
   "execution_count": 135,
   "metadata": {},
   "outputs": [
    {
     "data": {
      "text/plain": [
       "[<matplotlib.lines.Line2D at 0x11b5dd1b0>]"
      ]
     },
     "execution_count": 135,
     "metadata": {},
     "output_type": "execute_result"
    },
    {
     "data": {
      "image/png": "[encoded data removed]",
      "text/plain": [
       "<Figure size 640x480 with 1 Axes>"
      ]
     },
     "metadata": {},
     "output_type": "display_data"
    }
   ],
   "source": [
    "plt.plot(stock_a['daily_change'])"
   ]
  },
  {
   "cell_type": "code",
   "execution_count": 136,
   "metadata": {},
   "outputs": [
    {
     "data": {
      "text/plain": [
       "[<matplotlib.lines.Line2D at 0x11b71fd90>]"
      ]
     },
     "execution_count": 136,
     "metadata": {},
     "output_type": "execute_result"
    },
    {
     "data": {
      "image/png": "[encoded data removed]",
      "text/plain": [
       "<Figure size 640x480 with 1 Axes>"
      ]
     },
     "metadata": {},
     "output_type": "display_data"
    }
   ],
   "source": [
    "plt.plot(stock_b['daily_change'])"
   ]
  },
  {
   "cell_type": "code",
   "execution_count": 137,
   "metadata": {},
   "outputs": [],
   "source": [
    "corr = stock_a['close'].corr(stock_b['close'])"
   ]
  },
  {
   "cell_type": "code",
   "execution_count": 138,
   "metadata": {},
   "outputs": [
    {
     "data": {
      "text/plain": [
       "0.8212339877003252"
      ]
     },
     "execution_count": 138,
     "metadata": {},
     "output_type": "execute_result"
    }
   ],
   "source": [
    "corr"
   ]
  },
  {
   "cell_type": "markdown",
   "metadata": {},
   "source": [
    "# Correlation here"
   ]
  },
  {
   "cell_type": "code",
   "execution_count": 139,
   "metadata": {},
   "outputs": [],
   "source": [
    "def correlation(stock_a, stock_b):\n",
    "    corr = stock_a['close'].corr(stock_b['close'])\n",
    "    return corr\n",
    "\n",
    "def csv_loader(filepath):\n",
    "    filenames = os.listdir(filepath)\n",
    "    csv_names = [filename for filename in filenames if filename.endswith('.csv')]\n",
    "    csv_files = []\n",
    "    for name in csv_names:\n",
    "        csv_files.append(pd.read_csv(filepath+name))\n",
    "    return csv_files"
   ]
  },
  {
   "cell_type": "code",
   "execution_count": 140,
   "metadata": {},
   "outputs": [
    {
     "data": {
      "text/plain": [
       "'/Users/thomascanro/Desktop/CLASSES/Data Structures & Algorithms/DeFAANG'"
      ]
     },
     "execution_count": 140,
     "metadata": {},
     "output_type": "execute_result"
    }
   ],
   "source": [
    "\n",
    "project_directory = os.path.dirname(os.path.abspath(\"main.py\")) \n",
    "stocks_directory = os.path.dirname(os.path.abspath(project_directory)) \n",
    "stocks_directory"
   ]
  },
  {
   "cell_type": "code",
   "execution_count": 141,
   "metadata": {},
   "outputs": [],
   "source": [
    "files = csv_loader(stocks_directory+'/individual_stocks_5yr/')"
   ]
  },
  {
   "cell_type": "code",
   "execution_count": 142,
   "metadata": {},
   "outputs": [],
   "source": [
    "adj_list = {}\n",
    "for i, stock1 in enumerate(files):\n",
    "    adjacent_corrs = {}\n",
    "    for j, stock2 in enumerate(files):\n",
    "        if i == j:\n",
    "            continue\n",
    "        adjacent_corrs[stock2.Name.iloc[0]] = correlation(stock1, stock2)\n",
    "    adj_list[stock1.Name.iloc[0]] = adjacent_corrs\n",
    "    \n",
    "with open('adj_list.pkl', 'wb') as file:\n",
    "    pickle.dump(adj_list, file)"
   ]
  },
  {
   "cell_type": "code",
   "execution_count": 143,
   "metadata": {},
   "outputs": [
    {
     "data": {
      "text/plain": [
       "{'XRX': 0.008728692614540066,\n",
       " 'GS': 0.6997286105055388,\n",
       " 'SPGI': 0.7503390983377176,\n",
       " 'MTB': 0.6601702134086777,\n",
       " 'V': 0.7217944442653389,\n",
       " 'CTAS': 0.7223512808613628,\n",
       " 'ESRX': 0.433747472858096,\n",
       " 'APH': 0.7521252862800734,\n",
       " 'BBT': 0.7101151571206046,\n",
       " 'RHI': 0.7870156431144578,\n",
       " 'GGP': 0.48084888997689545,\n",
       " 'HCA': 0.8000486650217851,\n",
       " 'HD': 0.7000403060971372,\n",
       " 'PEP': 0.7301711571054533,\n",
       " 'INTC': 0.805385824150988,\n",
       " 'MAC': 0.29109138291363423,\n",
       " 'CLX': 0.6417480469399037,\n",
       " 'UNP': 0.7952808942199552,\n",
       " 'WAT': 0.6383500264816184,\n",
       " 'EMN': 0.34325991641303644,\n",
       " 'ADSK': 0.688951316094418,\n",
       " 'ALK': 0.784943851011393,\n",
       " 'VZ': -0.1124349618418514,\n",
       " 'AFL': 0.5470903107634876,\n",
       " 'ADP': 0.7473728906305447,\n",
       " 'CSRA': 0.681663753196095,\n",
       " 'AON': 0.7615163627693491,\n",
       " 'APC': -0.37624851887002303,\n",
       " 'WRK': 0.30696807694869527,\n",
       " 'XYL': 0.6419547870581844,\n",
       " 'OMC': 0.6262748371507495,\n",
       " 'SLB': -0.10450262222370063,\n",
       " 'NOV': -0.5243604035179752,\n",
       " 'CMA': 0.6124131829625283,\n",
       " 'INFO': 0.5177907761819782,\n",
       " 'CRM': 0.7122724854530414,\n",
       " 'AMGN': 0.8129755457164899,\n",
       " 'ED': 0.5201663767837279,\n",
       " 'AIZ': 0.6799247058688267,\n",
       " 'RSG': 0.6393177994369905,\n",
       " 'NRG': -0.182423569045854,\n",
       " 'FLIR': 0.6015193620100938,\n",
       " 'JPM': 0.6573882516631363,\n",
       " 'HIG': 0.8033233667526857,\n",
       " 'REGN': 0.7095852944498156,\n",
       " 'UAL': 0.9021804875585824,\n",
       " 'AZO': 0.6130192379807222,\n",
       " 'STI': 0.7259349724768739,\n",
       " 'MHK': 0.7211010269599352,\n",
       " 'DFS': 0.7391368039646533,\n",
       " 'MU': 0.6593028352396474,\n",
       " 'LRCX': 0.6597461940551401,\n",
       " 'HRB': 0.12903980847660415,\n",
       " 'FOXA': -0.17880085535765025,\n",
       " 'ISRG': 0.5247592430374075,\n",
       " 'TEL': 0.8242323680847348,\n",
       " 'BWA': 0.22610599233826603,\n",
       " 'CAG': 0.1632584947014776,\n",
       " 'SIG': 0.28759454683512675,\n",
       " 'CHD': 0.6792418594310925,\n",
       " 'FITB': 0.5901964466840498,\n",
       " 'JNPR': 0.7319189060936495,\n",
       " 'NFLX': 0.6749895232111766,\n",
       " 'IFF': 0.7475567389210268,\n",
       " 'EOG': 0.5964163542168384,\n",
       " 'NEE': 0.7002677237170358,\n",
       " 'SBUX': 0.656961685449164,\n",
       " 'RF': 0.5630299180092501,\n",
       " 'CNP': 0.17105000182905364,\n",
       " 'COTY': 0.5015057378113197,\n",
       " 'MCK': 0.5389716312476119,\n",
       " 'HP': -0.08138252177147408,\n",
       " 'MOS': -0.5442419254942914,\n",
       " 'UA': -0.8910054904376937,\n",
       " 'DHI': 0.5932348318889753,\n",
       " 'KSU': -0.20480770089178674,\n",
       " 'FLR': -0.4297917430257725,\n",
       " 'FLS': -0.2890427304550501,\n",
       " 'C': 0.551357944413172,\n",
       " 'TPR': -0.6187503198151232,\n",
       " 'NTAP': 0.19793411274167566,\n",
       " 'DLTR': 0.6342181695732482,\n",
       " 'SNA': 0.7916982542924258,\n",
       " 'AVGO': 0.7203827913232578,\n",
       " 'ROP': 0.7232808395372278,\n",
       " 'HOG': -0.08316113996611696,\n",
       " 'RL': -0.5656291043125043,\n",
       " 'MA': 0.7391843647766934,\n",
       " 'MET': 0.5544218706960576,\n",
       " 'LNC': 0.7760452057402681,\n",
       " 'TAP': 0.6281452852299799,\n",
       " 'WEC': 0.6347485164720884,\n",
       " 'NAVI': -0.6318145030029525,\n",
       " 'GPS': -0.3006551163719425,\n",
       " 'EIX': 0.6652032563236286,\n",
       " 'BHF': -0.27567897919042694,\n",
       " 'GM': 0.36481325404095577,\n",
       " 'NOC': 0.7201048142063248,\n",
       " 'AVB': 0.7292152018564942,\n",
       " 'SRCL': -0.16952084080575855,\n",
       " 'EQR': 0.6320110616725007,\n",
       " 'ANSS': 0.5334862003169658,\n",
       " 'COST': 0.7254070560822798,\n",
       " 'CTL': -0.3974164212737324,\n",
       " 'AMG': 0.24913298951505483,\n",
       " 'PCLN': 0.7183180286463017,\n",
       " 'TRIP': -0.16906468287536372,\n",
       " 'PSA': 0.5002935498556267,\n",
       " 'UTX': 0.579362237221922,\n",
       " 'PGR': 0.5489951206854944,\n",
       " 'IVZ': 0.4299689879998376,\n",
       " 'GOOG': 0.48728752178847073,\n",
       " 'LUK': -0.2829309219472607,\n",
       " 'PKG': 0.7356159802086073,\n",
       " 'BXP': 0.6976961370521778,\n",
       " 'SRE': 0.8158395682344736,\n",
       " 'ACN': 0.6308687113378495,\n",
       " 'QRVO': -0.1798351538707189,\n",
       " 'RJF': 0.7013784945416597,\n",
       " 'XRAY': 0.6655036346218193,\n",
       " 'DWDP': 0.38624231286931265,\n",
       " 'CI': 0.7457461197411562,\n",
       " 'KSS': 0.1143207864529307,\n",
       " 'BHGE': -0.4567483130977585,\n",
       " 'ADI': 0.6937448418033265,\n",
       " 'JNJ': 0.6800492722719874,\n",
       " 'DAL': 0.9481706406490633,\n",
       " 'XL': 0.7296361564962994,\n",
       " 'CHTR': 0.6468302584730488,\n",
       " 'TDG': 0.7064677127796157,\n",
       " 'EVHC': -0.9120600404914448,\n",
       " 'D': 0.8301226536826456,\n",
       " 'ORCL': 0.8031610672569967,\n",
       " 'DGX': 0.6063941493878928,\n",
       " 'CFG': 0.23435674036232984,\n",
       " 'VRSN': 0.6269384107398887,\n",
       " 'AJG': 0.5658408067518925,\n",
       " 'UNH': 0.7067438933070043,\n",
       " 'BIIB': 0.6913009634554002,\n",
       " 'DE': 0.495766469648404,\n",
       " 'TXN': 0.7021387748763958,\n",
       " 'KR': 0.5602131644619279,\n",
       " 'AKAM': 0.6319417496060433,\n",
       " 'TWX': 0.7778373120331116,\n",
       " 'ETN': 0.3032633286834275,\n",
       " 'VLO': 0.7761628269198535,\n",
       " 'CINF': 0.5089159364430543,\n",
       " 'PRGO': -0.06806709460502361,\n",
       " 'PFG': 0.7402205522639375,\n",
       " 'STZ': 0.7180604831031189,\n",
       " 'AEP': 0.6991211611055428,\n",
       " 'BAC': 0.6540437856449526,\n",
       " 'PRU': 0.6623722046685317,\n",
       " 'LLY': 0.7375209636124653,\n",
       " 'NWSA': -0.4489023128301591,\n",
       " 'ZBH': 0.7720071351572505,\n",
       " 'NI': 0.01483106195315686,\n",
       " 'EQT': -0.27565954422289796,\n",
       " 'CMCSA': 0.7613214733056232,\n",
       " 'TMO': 0.7696166773628771,\n",
       " 'O': 0.3734192940595449,\n",
       " 'IQV': 0.7264218461367925,\n",
       " 'CMS': 0.6450671820545264,\n",
       " 'EW': 0.627185841667847,\n",
       " 'COO': 0.725363132556124,\n",
       " 'CPB': 0.2845345465660311,\n",
       " 'BDX': 0.720790569375495,\n",
       " 'GLW': 0.7871022510755429,\n",
       " 'TIF': 0.5086216468921669,\n",
       " 'CTXS': 0.3423447156063741,\n",
       " 'MRO': -0.504709901876649,\n",
       " 'OKE': -0.010544272154556021,\n",
       " 'MMC': 0.7399066004493045,\n",
       " 'SCG': 0.2736216552721573,\n",
       " 'LOW': 0.7485159095428634,\n",
       " 'PNW': 0.567199336907357,\n",
       " 'VFC': 0.7297289705284561,\n",
       " 'CB': 0.713597734615674,\n",
       " 'WMT': 0.23214574253274456,\n",
       " 'NFX': 0.37968414840695514,\n",
       " 'MTD': 0.6423391546567487,\n",
       " 'ADBE': 0.685319058980655,\n",
       " 'COP': -0.22909847452724943,\n",
       " 'AIV': 0.6903959445670728,\n",
       " 'HES': -0.34977437011896256,\n",
       " 'DLR': 0.5062155869978937,\n",
       " 'KHC': 0.6612332811677478,\n",
       " 'FISV': 0.7132089453233711,\n",
       " 'GT': 0.8258613557515821,\n",
       " 'VMC': 0.6502835016197349,\n",
       " 'SWK': 0.6334357476164626,\n",
       " 'ILMN': 0.8769027072415926,\n",
       " 'PSX': 0.7528622112298179,\n",
       " 'LMT': 0.7694902030009647,\n",
       " 'ECL': 0.7947921257915013,\n",
       " 'SNPS': 0.6290625824491642,\n",
       " 'DUK': 0.6025083305605665,\n",
       " 'GIS': 0.38823038287849293,\n",
       " 'TSN': 0.6029125574560181,\n",
       " 'XEC': 0.5789090239662754,\n",
       " 'PH': 0.636490297017236,\n",
       " 'MCHP': 0.6256911667496979,\n",
       " 'CNC': 0.7563753164767469,\n",
       " 'ANTM': 0.807460392022246,\n",
       " 'IP': 0.5043042154013417,\n",
       " 'UAA': 0.31304812218463474,\n",
       " 'ANDV': 0.740134876956386,\n",
       " 'CCI': 0.6320105306399865,\n",
       " 'CDNS': 0.6287029474940177,\n",
       " 'CAT': 0.37696757667694564,\n",
       " 'KMX': 0.7511304038385436,\n",
       " 'CELG': 0.8142985401627515,\n",
       " 'INCY': 0.7792666464908198,\n",
       " 'CBOE': 0.6824700091507842,\n",
       " 'ALL': 0.7625004866101431,\n",
       " 'AMT': 0.6864285881875122,\n",
       " 'MDT': 0.7578985085285004,\n",
       " 'PNC': 0.738741470364148,\n",
       " 'APD': 0.8718607708060355,\n",
       " 'HBAN': 0.7921465746520762,\n",
       " 'EBAY': -0.29304150655855254,\n",
       " 'BBY': 0.5850294914162332,\n",
       " 'ICE': 0.6868082066598225,\n",
       " 'WDC': 0.514375600323794,\n",
       " 'EXC': 0.4702492717441149,\n",
       " 'TROW': 0.3803369573295209,\n",
       " 'ZTS': 0.6953698861898563,\n",
       " 'CMG': 0.2355110736997913,\n",
       " 'TRV': 0.750219882642584,\n",
       " 'MKC': 0.49720123876341654,\n",
       " 'ABC': 0.7731917843564409,\n",
       " 'FRT': 0.5303865520671147,\n",
       " 'DVN': -0.25079319471631417,\n",
       " 'VIAB': -0.44473872820335975,\n",
       " 'ARNC': 0.2426805091472023,\n",
       " 'LLL': 0.723233490784921,\n",
       " 'MNST': 0.7366857593159589,\n",
       " 'LEN': 0.7091791263169305,\n",
       " 'AEE': 0.6720518639501707,\n",
       " 'MSI': 0.6130416906154743,\n",
       " 'CSX': 0.6713349735900034,\n",
       " 'PVH': -0.1570549708659164,\n",
       " 'FL': 0.5309683890447844,\n",
       " 'IRM': 0.3864767673643933,\n",
       " 'DOV': 0.0008344933383476132,\n",
       " 'SPG': 0.25477698111929187,\n",
       " 'MS': 0.7582965685553198,\n",
       " 'CSCO': 0.6860269892459139,\n",
       " 'NVDA': 0.5389892455169879,\n",
       " 'RRC': -0.6328748198593112,\n",
       " 'PKI': 0.746468589793984,\n",
       " 'NSC': 0.7206862327919897,\n",
       " 'BEN': -0.15915437446841837,\n",
       " 'SBAC': 0.7989800057403619,\n",
       " 'UNM': 0.6481794052084885,\n",
       " 'VRSK': 0.5951766873355426,\n",
       " 'NEM': -0.11752275007637612,\n",
       " 'KLAC': 0.5757229022929088,\n",
       " 'BLL': 0.8335478960929311,\n",
       " 'EMR': 0.018690365592972526,\n",
       " 'KMB': 0.5414522919719258,\n",
       " 'DIS': 0.8463247396002191,\n",
       " 'PPL': 0.5310588511715004,\n",
       " 'AET': 0.7448402289851184,\n",
       " 'ES': 0.6874312101224458,\n",
       " 'UPS': 0.7620304257216038,\n",
       " 'EXR': 0.6402719282691932,\n",
       " 'ULTA': 0.5295795029784968,\n",
       " 'GWW': -0.4034511262038557,\n",
       " 'TMK': 0.7059941658895004,\n",
       " 'K': 0.24234233867897068,\n",
       " 'SNI': 0.17622329187902797,\n",
       " 'GRMN': 0.5573521251433413,\n",
       " 'CVS': 0.594270037409815,\n",
       " 'CF': 0.12776617488965336,\n",
       " 'AMD': 0.42538578138248767,\n",
       " 'PNR': 0.17187960657007084,\n",
       " 'RHT': 0.6894590969525402,\n",
       " 'AME': 0.7059536584072196,\n",
       " 'APTV': 0.875021554965428,\n",
       " 'CTSH': 0.8169127511033464,\n",
       " 'MRK': 0.7746513837054638,\n",
       " 'WU': 0.5672134378229255,\n",
       " 'IBM': -0.6197910536314484,\n",
       " 'MSFT': 0.7113237159538077,\n",
       " 'STT': 0.6288309302236175,\n",
       " 'FMC': 0.1207229113865038,\n",
       " 'UHS': 0.6772641457528357,\n",
       " 'PPG': 0.8499471808659383,\n",
       " 'KMI': -0.34677129702751014,\n",
       " 'RE': 0.7484067435812889,\n",
       " 'HON': 0.7248932407278621,\n",
       " 'PX': 0.3970250449741632,\n",
       " 'AAPL': 0.8351143006202053,\n",
       " 'RMD': 0.6738832974953498,\n",
       " 'MAT': -0.8171190126279996,\n",
       " 'PEG': 0.7486815075321981,\n",
       " 'INTU': 0.7415778803575245,\n",
       " 'SHW': 0.7576922611675405,\n",
       " 'KEY': 0.7133332491413746,\n",
       " 'ADM': 0.584007468021062,\n",
       " 'MMM': 0.7761639663366461,\n",
       " 'AOS': 0.6587699805574575,\n",
       " 'CVX': -0.2647812212447732,\n",
       " 'PLD': 0.5455174475682789,\n",
       " 'CL': 0.7231626286738722,\n",
       " 'DISH': 0.6732898505073325,\n",
       " 'A': 0.21561003119018052,\n",
       " 'EQIX': 0.5729701807442211,\n",
       " 'GE': 0.09180899798625604,\n",
       " 'GD': 0.8229165759811745,\n",
       " 'ALLE': 0.5974290660547993,\n",
       " 'PHM': 0.4965870502532929,\n",
       " 'AIG': 0.7987157484407422,\n",
       " 'LKQ': 0.396515186393535,\n",
       " 'HSIC': 0.667028400155867,\n",
       " 'ADS': 0.6450046355552517,\n",
       " 'VRTX': 0.7174291345795397,\n",
       " 'MDLZ': 0.6996740916997496,\n",
       " 'MON': 0.39837862221953624,\n",
       " 'MPC': 0.680262400812435,\n",
       " 'APA': -0.5374451871290024,\n",
       " 'BRK.B': 0.7818262897185357,\n",
       " 'AMP': 0.796811526015529,\n",
       " 'FCX': -0.5189493894514275,\n",
       " 'PCAR': 0.668938704210329,\n",
       " 'NLSN': 0.3027304168340411,\n",
       " 'TJX': 0.6736157614737585,\n",
       " 'PYPL': 0.6149577526212294,\n",
       " 'FBHS': 0.6004639565854235,\n",
       " 'AXP': 0.3882790266970997,\n",
       " 'BA': 0.6479759580235146,\n",
       " 'LNT': 0.6566327844086822,\n",
       " 'ALB': 0.38746248413874146,\n",
       " 'PG': 0.4970051880746381,\n",
       " 'XEL': 0.6331055602992643,\n",
       " 'ATVI': 0.6093843153795643,\n",
       " 'FFIV': 0.7813314148615602,\n",
       " 'EFX': 0.6272893200652777,\n",
       " 'CMI': 0.5105122788591346,\n",
       " 'EL': 0.5964340484041458,\n",
       " 'ESS': 0.8090549172967646,\n",
       " 'PCG': 0.5312575260087453,\n",
       " 'ALGN': 0.5536063108908624,\n",
       " 'KORS': -0.2649129939560515,\n",
       " 'HSY': 0.5523817567993875,\n",
       " 'HLT': 0.9504211714070102,\n",
       " 'T': 0.06326416177468201,\n",
       " 'CHRW': 0.6809564512412138,\n",
       " 'AYI': 0.5376005254210415,\n",
       " 'LYB': 0.6843833757234183,\n",
       " 'HUM': 0.793711342532508,\n",
       " 'FB': 0.7236839049400113,\n",
       " 'DRI': 0.6670328455713319,\n",
       " 'SYK': 0.7008669252153743,\n",
       " 'MAA': 0.5606318638159169,\n",
       " 'SCHW': 0.7763972193260753,\n",
       " 'USB': 0.798005759878183,\n",
       " 'TXT': 0.87746632735786,\n",
       " 'PM': 0.25426751540851145,\n",
       " 'NTRS': 0.7450755303711427,\n",
       " 'BAX': -0.20679657842628887,\n",
       " 'ITW': 0.694976575659516,\n",
       " 'BK': 0.8085999206769022,\n",
       " 'DVA': 0.4516156902596417,\n",
       " 'GPN': 0.6729434506193814,\n",
       " 'IT': 0.7600906508481222,\n",
       " 'CCL': 0.7256700006843624,\n",
       " 'SWKS': 0.8486162005215827,\n",
       " 'HAS': 0.6511061644973846,\n",
       " 'DHR': 0.7420557538044282,\n",
       " 'WMB': 0.07095723278083017,\n",
       " 'HCN': 0.2977300984823457,\n",
       " 'CBS': 0.42412886848798775,\n",
       " 'EA': 0.7099532345840708,\n",
       " 'CME': 0.6946305825273644,\n",
       " 'SEE': 0.7673732542726293,\n",
       " 'VTR': -0.14216730453981855,\n",
       " 'HST': 0.3381261688348786,\n",
       " 'SLG': 0.6674630256982703,\n",
       " 'JWN': 0.05328555654049606,\n",
       " 'LB': 0.2787022387130702,\n",
       " 'SO': 0.37055116654134024,\n",
       " 'UDR': 0.7507596392932684,\n",
       " 'ALXN': 0.5026675054850454,\n",
       " 'NUE': 0.4000960990571862,\n",
       " 'GPC': 0.6414419377734144,\n",
       " 'FDX': 0.8334279139372006,\n",
       " 'SYF': 0.07295723965916102,\n",
       " 'LUV': 0.8662522012672589,\n",
       " 'TGT': 0.06134905861624905,\n",
       " 'VAR': 0.7479181054018017,\n",
       " 'DISCA': -0.7288342489971478,\n",
       " 'FIS': 0.7507902681807759,\n",
       " 'EXPE': 0.7411030732926965,\n",
       " 'EXPD': 0.6821097776955246,\n",
       " 'DRE': 0.621288806961093,\n",
       " 'LH': 0.6681157937536294,\n",
       " 'DXC': 0.8094628883857973,\n",
       " 'REG': 0.4872634819428511,\n",
       " 'PWR': 0.30154625144089986,\n",
       " 'WLTW': 0.8479879830542166,\n",
       " 'XOM': -0.3091392180600719,\n",
       " 'IDXX': 0.6475784312398452,\n",
       " 'AVY': 0.605188506980658,\n",
       " 'BF.B': 0.7743293322805848,\n",
       " 'PXD': 0.04667882711446844,\n",
       " 'WM': 0.6527506894721923,\n",
       " 'AMAT': 0.6190270424586246,\n",
       " 'JEC': -0.17201145774800974,\n",
       " 'MYL': 0.42665457172144966,\n",
       " 'ROST': 0.6744516915322751,\n",
       " 'GOOGL': 0.6643438617216549,\n",
       " 'BSX': 0.669955461407652,\n",
       " 'CXO': 0.5643392455831497,\n",
       " 'HPQ': 0.9050503670186247,\n",
       " 'WYNN': -0.08673161623457991,\n",
       " 'PDCO': 0.31217127566737535,\n",
       " 'HRL': 0.5771058447846114,\n",
       " 'ROK': 0.6446479580334539,\n",
       " 'FE': -0.5741112917639128,\n",
       " 'WHR': 0.7639107794550745,\n",
       " 'ETFC': 0.7996388402131407,\n",
       " 'FTI': -0.535698961701563,\n",
       " 'AWK': 0.6104316411719962,\n",
       " 'NDAQ': 0.6855651573659767,\n",
       " 'DPS': 0.7227198886521381,\n",
       " 'DISCK': -0.7043426634813074,\n",
       " 'ETR': 0.6106281455432858,\n",
       " 'VNO': 0.2962462717410307,\n",
       " 'XLNX': 0.55312889742197,\n",
       " 'HII': 0.7331586641020099,\n",
       " 'KO': 0.49618067609566757,\n",
       " 'LEG': 0.6864875518205896,\n",
       " 'IR': 0.5660419862477495,\n",
       " 'MLM': 0.6359657464194197,\n",
       " 'TSCO': 0.3037426881475723,\n",
       " 'NWS': -0.4780227976384984,\n",
       " 'RTN': 0.729109397267835,\n",
       " 'TSS': 0.6583260716511504,\n",
       " 'HRS': 0.7199301932387078,\n",
       " 'BLK': 0.7632007305397249,\n",
       " 'GILD': 0.5425789651811151,\n",
       " 'PAYX': 0.690366554715374,\n",
       " 'DG': 0.6140708606504598,\n",
       " 'MCD': 0.4826668974576765,\n",
       " 'FTV': 0.9488529735730009,\n",
       " 'IPG': 0.7232490684239695,\n",
       " 'KIM': 0.019611246322253764,\n",
       " 'STX': 0.2095357372911338,\n",
       " 'AES': -0.277831233821709,\n",
       " 'PFE': 0.6332408214934834,\n",
       " 'YUM': 0.2184718830630272,\n",
       " 'CAH': 0.6981797349352477,\n",
       " 'AGN': 0.6719338998633732,\n",
       " 'MGM': 0.6942242065926071,\n",
       " 'CHK': -0.5028476593921072,\n",
       " 'HBI': 0.6668739509986743,\n",
       " 'DTE': 0.6817012681695226,\n",
       " 'NWL': 0.5415555171951939,\n",
       " 'M': -0.11612855321471337,\n",
       " 'L': -0.031318072925615045,\n",
       " 'ABT': 0.7601027177806082,\n",
       " 'WBA': 0.7649225226999595,\n",
       " 'BMY': 0.5893325453704502,\n",
       " 'HOLX': 0.7019688867575755,\n",
       " 'PBCT': 0.6422075537815409,\n",
       " 'URI': 0.7007569082020373,\n",
       " 'COL': 0.7387145634367218,\n",
       " 'AMZN': 0.5662246483033598,\n",
       " 'JCI': 0.4513845808821893,\n",
       " 'CBG': 0.8359891403849931,\n",
       " 'NCLH': 0.719268032272541,\n",
       " 'RCL': 0.8257408405576647,\n",
       " 'NBL': -0.5463424452123555,\n",
       " 'SYMC': 0.33203740722482744,\n",
       " 'CA': 0.4557655380705826,\n",
       " 'JBHT': 0.6464016507927699,\n",
       " 'FOX': -0.20102862343236136,\n",
       " 'FAST': -0.22038170413712188,\n",
       " 'ZION': 0.5193775735527093,\n",
       " 'ABBV': 0.723115059467393,\n",
       " 'MCO': 0.8093445488051967,\n",
       " 'SYY': 0.6037619066182025,\n",
       " 'MAS': 0.6451240258583565,\n",
       " 'OXY': -0.5248948016069531,\n",
       " 'MAR': 0.8202801663592267,\n",
       " 'AAP': 0.5359826960720108,\n",
       " 'HPE': 0.08568317066284895,\n",
       " 'MO': 0.6879101229766329,\n",
       " 'ARE': 0.7257085455329212,\n",
       " 'ORLY': 0.6359284184757861,\n",
       " 'HCP': -0.5731556406554436,\n",
       " 'NKE': 0.7141618605366762,\n",
       " 'HAL': 0.0069240617420976,\n",
       " 'CERN': 0.7045383783832688,\n",
       " 'SJM': 0.2949441811338832,\n",
       " 'WY': 0.5607435100033014,\n",
       " 'WYN': 0.7840335153046776,\n",
       " 'WFC': 0.8950065286268262,\n",
       " 'QCOM': -0.12415250325678462,\n",
       " 'COF': 0.7884607661018018,\n",
       " 'COG': -0.4974769476106137,\n",
       " 'F': -0.3447486644594677}"
      ]
     },
     "execution_count": 143,
     "metadata": {},
     "output_type": "execute_result"
    }
   ],
   "source": [
    "#Adjacency list for one stock\n",
    "adj_list['AAPL']"
   ]
  },
  {
   "cell_type": "code",
   "execution_count": 144,
   "metadata": {},
   "outputs": [
    {
     "data": {
      "text/plain": [
       "0.8351143006202053"
      ]
     },
     "execution_count": 144,
     "metadata": {},
     "output_type": "execute_result"
    }
   ],
   "source": [
    "#correlation of one stock to another\n",
    "adj_list['AAL']['AAPL']"
   ]
  },
  {
   "cell_type": "markdown",
   "metadata": {},
   "source": [
    "# Standard Dev, latest value by name"
   ]
  },
  {
   "cell_type": "code",
   "execution_count": 145,
   "metadata": {},
   "outputs": [],
   "source": [
    "features = pd.DataFrame(columns = ['Name', 'LastClosingVal', 'StandDev'])\n",
    "for stock in files:\n",
    "    std_dev = stock.close.std()\n",
    "    name = stock.Name.iloc[0]\n",
    "    lastVal = stock.close.iloc[-1]\n",
    "    dict = {'Name' : name, 'LastClosingVal':lastVal, 'StandDev':std_dev}\n",
    "    ser = pd.Series(dict)\n",
    "    new_row_df = pd.DataFrame(ser).transpose()\n",
    "    features = pd.concat([features, new_row_df], ignore_index=True)"
   ]
  },
  {
   "cell_type": "code",
   "execution_count": 146,
   "metadata": {},
   "outputs": [
    {
     "data": {
      "text/html": [
       "<div>\n",
       "<style scoped>\n",
       "    .dataframe tbody tr th:only-of-type {\n",
       "        vertical-align: middle;\n",
       "    }\n",
       "\n",
       "    .dataframe tbody tr th {\n",
       "        vertical-align: top;\n",
       "    }\n",
       "\n",
       "    .dataframe thead th {\n",
       "        text-align: right;\n",
       "    }\n",
       "</style>\n",
       "<table border=\"1\" class=\"dataframe\">\n",
       "  <thead>\n",
       "    <tr style=\"text-align: right;\">\n",
       "      <th></th>\n",
       "      <th>Name</th>\n",
       "      <th>LastClosingVal</th>\n",
       "      <th>StandDev</th>\n",
       "    </tr>\n",
       "  </thead>\n",
       "  <tbody>\n",
       "    <tr>\n",
       "      <th>0</th>\n",
       "      <td>XRX</td>\n",
       "      <td>31.18</td>\n",
       "      <td>7.949466</td>\n",
       "    </tr>\n",
       "    <tr>\n",
       "      <th>1</th>\n",
       "      <td>GS</td>\n",
       "      <td>257.1</td>\n",
       "      <td>31.859654</td>\n",
       "    </tr>\n",
       "    <tr>\n",
       "      <th>2</th>\n",
       "      <td>SPGI</td>\n",
       "      <td>182.69</td>\n",
       "      <td>31.714175</td>\n",
       "    </tr>\n",
       "    <tr>\n",
       "      <th>3</th>\n",
       "      <td>MTB</td>\n",
       "      <td>184.97</td>\n",
       "      <td>20.536369</td>\n",
       "    </tr>\n",
       "    <tr>\n",
       "      <th>4</th>\n",
       "      <td>V</td>\n",
       "      <td>119.65</td>\n",
       "      <td>19.985805</td>\n",
       "    </tr>\n",
       "  </tbody>\n",
       "</table>\n",
       "</div>"
      ],
      "text/plain": [
       "   Name LastClosingVal   StandDev\n",
       "0   XRX          31.18   7.949466\n",
       "1    GS          257.1  31.859654\n",
       "2  SPGI         182.69  31.714175\n",
       "3   MTB         184.97  20.536369\n",
       "4     V         119.65  19.985805"
      ]
     },
     "execution_count": 146,
     "metadata": {},
     "output_type": "execute_result"
    }
   ],
   "source": [
    "features.head()"
   ]
  },
  {
   "cell_type": "code",
   "execution_count": 147,
   "metadata": {},
   "outputs": [],
   "source": [
    "features.to_csv('../clean_data/stocks_clean.csv')"
   ]
  }
 ],
 "metadata": {
  "kernelspec": {
   "display_name": "Python 3",
   "language": "python",
   "name": "python3"
  },
  "language_info": {
   "codemirror_mode": {
    "name": "ipython",
    "version": 3
   },
   "file_extension": ".py",
   "mimetype": "text/x-python",
   "name": "python",
   "nbconvert_exporter": "python",
   "pygments_lexer": "ipython3",
   "version": "3.10.12"
  }
 },
 "nbformat": 4,
 "nbformat_minor": 2
}

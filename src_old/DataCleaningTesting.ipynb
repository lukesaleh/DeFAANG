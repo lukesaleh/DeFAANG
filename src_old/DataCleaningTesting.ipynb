{
 "cells": [
  {
   "cell_type": "code",
   "execution_count": 1,
   "metadata": {},
   "outputs": [],
   "source": [
    "import pandas as pd\n",
    "import numpy as np\n",
    "import os, sys\n",
    "import matplotlib.pyplot as plt\n",
    "import itertools\n",
    "import pickle"
   ]
  },
  {
   "cell_type": "code",
   "execution_count": 2,
   "metadata": {},
   "outputs": [],
   "source": [
    "stock_a = pd.read_csv('../individual_stocks_5yr/AAPL_data.csv')\n",
    "stock_b = pd.read_csv('../individual_stocks_5yr/HPQ_data.csv')"
   ]
  },
  {
   "cell_type": "code",
   "execution_count": 3,
   "metadata": {},
   "outputs": [
    {
     "data": {
      "text/html": [
       "<div>\n",
       "<style scoped>\n",
       "    .dataframe tbody tr th:only-of-type {\n",
       "        vertical-align: middle;\n",
       "    }\n",
       "\n",
       "    .dataframe tbody tr th {\n",
       "        vertical-align: top;\n",
       "    }\n",
       "\n",
       "    .dataframe thead th {\n",
       "        text-align: right;\n",
       "    }\n",
       "</style>\n",
       "<table border=\"1\" class=\"dataframe\">\n",
       "  <thead>\n",
       "    <tr style=\"text-align: right;\">\n",
       "      <th></th>\n",
       "      <th>date</th>\n",
       "      <th>open</th>\n",
       "      <th>high</th>\n",
       "      <th>low</th>\n",
       "      <th>close</th>\n",
       "      <th>volume</th>\n",
       "      <th>Name</th>\n",
       "    </tr>\n",
       "  </thead>\n",
       "  <tbody>\n",
       "    <tr>\n",
       "      <th>0</th>\n",
       "      <td>2013-02-08</td>\n",
       "      <td>67.7142</td>\n",
       "      <td>68.4014</td>\n",
       "      <td>66.8928</td>\n",
       "      <td>67.8542</td>\n",
       "      <td>158168416</td>\n",
       "      <td>AAPL</td>\n",
       "    </tr>\n",
       "    <tr>\n",
       "      <th>1</th>\n",
       "      <td>2013-02-11</td>\n",
       "      <td>68.0714</td>\n",
       "      <td>69.2771</td>\n",
       "      <td>67.6071</td>\n",
       "      <td>68.5614</td>\n",
       "      <td>129029425</td>\n",
       "      <td>AAPL</td>\n",
       "    </tr>\n",
       "    <tr>\n",
       "      <th>2</th>\n",
       "      <td>2013-02-12</td>\n",
       "      <td>68.5014</td>\n",
       "      <td>68.9114</td>\n",
       "      <td>66.8205</td>\n",
       "      <td>66.8428</td>\n",
       "      <td>151829363</td>\n",
       "      <td>AAPL</td>\n",
       "    </tr>\n",
       "    <tr>\n",
       "      <th>3</th>\n",
       "      <td>2013-02-13</td>\n",
       "      <td>66.7442</td>\n",
       "      <td>67.6628</td>\n",
       "      <td>66.1742</td>\n",
       "      <td>66.7156</td>\n",
       "      <td>118721995</td>\n",
       "      <td>AAPL</td>\n",
       "    </tr>\n",
       "    <tr>\n",
       "      <th>4</th>\n",
       "      <td>2013-02-14</td>\n",
       "      <td>66.3599</td>\n",
       "      <td>67.3771</td>\n",
       "      <td>66.2885</td>\n",
       "      <td>66.6556</td>\n",
       "      <td>88809154</td>\n",
       "      <td>AAPL</td>\n",
       "    </tr>\n",
       "  </tbody>\n",
       "</table>\n",
       "</div>"
      ],
      "text/plain": [
       "         date     open     high      low    close     volume  Name\n",
       "0  2013-02-08  67.7142  68.4014  66.8928  67.8542  158168416  AAPL\n",
       "1  2013-02-11  68.0714  69.2771  67.6071  68.5614  129029425  AAPL\n",
       "2  2013-02-12  68.5014  68.9114  66.8205  66.8428  151829363  AAPL\n",
       "3  2013-02-13  66.7442  67.6628  66.1742  66.7156  118721995  AAPL\n",
       "4  2013-02-14  66.3599  67.3771  66.2885  66.6556   88809154  AAPL"
      ]
     },
     "execution_count": 3,
     "metadata": {},
     "output_type": "execute_result"
    }
   ],
   "source": [
    "stock_a.head()"
   ]
  },
  {
   "cell_type": "code",
   "execution_count": 4,
   "metadata": {},
   "outputs": [
    {
     "data": {
      "text/html": [
       "<div>\n",
       "<style scoped>\n",
       "    .dataframe tbody tr th:only-of-type {\n",
       "        vertical-align: middle;\n",
       "    }\n",
       "\n",
       "    .dataframe tbody tr th {\n",
       "        vertical-align: top;\n",
       "    }\n",
       "\n",
       "    .dataframe thead th {\n",
       "        text-align: right;\n",
       "    }\n",
       "</style>\n",
       "<table border=\"1\" class=\"dataframe\">\n",
       "  <thead>\n",
       "    <tr style=\"text-align: right;\">\n",
       "      <th></th>\n",
       "      <th>date</th>\n",
       "      <th>open</th>\n",
       "      <th>high</th>\n",
       "      <th>low</th>\n",
       "      <th>close</th>\n",
       "      <th>volume</th>\n",
       "      <th>Name</th>\n",
       "    </tr>\n",
       "  </thead>\n",
       "  <tbody>\n",
       "    <tr>\n",
       "      <th>0</th>\n",
       "      <td>2015-10-19</td>\n",
       "      <td>10.51</td>\n",
       "      <td>12.50</td>\n",
       "      <td>10.51</td>\n",
       "      <td>12.41</td>\n",
       "      <td>1887845</td>\n",
       "      <td>HPQ</td>\n",
       "    </tr>\n",
       "    <tr>\n",
       "      <th>1</th>\n",
       "      <td>2015-10-20</td>\n",
       "      <td>12.60</td>\n",
       "      <td>12.60</td>\n",
       "      <td>11.70</td>\n",
       "      <td>12.01</td>\n",
       "      <td>363410</td>\n",
       "      <td>HPQ</td>\n",
       "    </tr>\n",
       "    <tr>\n",
       "      <th>2</th>\n",
       "      <td>2015-10-21</td>\n",
       "      <td>12.07</td>\n",
       "      <td>12.07</td>\n",
       "      <td>11.25</td>\n",
       "      <td>12.05</td>\n",
       "      <td>171500</td>\n",
       "      <td>HPQ</td>\n",
       "    </tr>\n",
       "    <tr>\n",
       "      <th>3</th>\n",
       "      <td>2015-10-22</td>\n",
       "      <td>12.25</td>\n",
       "      <td>12.25</td>\n",
       "      <td>11.70</td>\n",
       "      <td>11.83</td>\n",
       "      <td>492473</td>\n",
       "      <td>HPQ</td>\n",
       "    </tr>\n",
       "    <tr>\n",
       "      <th>4</th>\n",
       "      <td>2015-10-23</td>\n",
       "      <td>11.90</td>\n",
       "      <td>12.38</td>\n",
       "      <td>11.73</td>\n",
       "      <td>12.00</td>\n",
       "      <td>314685</td>\n",
       "      <td>HPQ</td>\n",
       "    </tr>\n",
       "  </tbody>\n",
       "</table>\n",
       "</div>"
      ],
      "text/plain": [
       "         date   open   high    low  close   volume Name\n",
       "0  2015-10-19  10.51  12.50  10.51  12.41  1887845  HPQ\n",
       "1  2015-10-20  12.60  12.60  11.70  12.01   363410  HPQ\n",
       "2  2015-10-21  12.07  12.07  11.25  12.05   171500  HPQ\n",
       "3  2015-10-22  12.25  12.25  11.70  11.83   492473  HPQ\n",
       "4  2015-10-23  11.90  12.38  11.73  12.00   314685  HPQ"
      ]
     },
     "execution_count": 4,
     "metadata": {},
     "output_type": "execute_result"
    }
   ],
   "source": [
    "stock_b.head()"
   ]
  },
  {
   "cell_type": "code",
   "execution_count": 5,
   "metadata": {},
   "outputs": [
    {
     "data": {
      "text/html": [
       "<div>\n",
       "<style scoped>\n",
       "    .dataframe tbody tr th:only-of-type {\n",
       "        vertical-align: middle;\n",
       "    }\n",
       "\n",
       "    .dataframe tbody tr th {\n",
       "        vertical-align: top;\n",
       "    }\n",
       "\n",
       "    .dataframe thead th {\n",
       "        text-align: right;\n",
       "    }\n",
       "</style>\n",
       "<table border=\"1\" class=\"dataframe\">\n",
       "  <thead>\n",
       "    <tr style=\"text-align: right;\">\n",
       "      <th></th>\n",
       "      <th>open</th>\n",
       "      <th>high</th>\n",
       "      <th>low</th>\n",
       "      <th>close</th>\n",
       "      <th>volume</th>\n",
       "    </tr>\n",
       "  </thead>\n",
       "  <tbody>\n",
       "    <tr>\n",
       "      <th>count</th>\n",
       "      <td>1259.000000</td>\n",
       "      <td>1259.000000</td>\n",
       "      <td>1259.000000</td>\n",
       "      <td>1259.000000</td>\n",
       "      <td>1.259000e+03</td>\n",
       "    </tr>\n",
       "    <tr>\n",
       "      <th>mean</th>\n",
       "      <td>109.055429</td>\n",
       "      <td>109.951118</td>\n",
       "      <td>108.141589</td>\n",
       "      <td>109.066698</td>\n",
       "      <td>5.404790e+07</td>\n",
       "    </tr>\n",
       "    <tr>\n",
       "      <th>std</th>\n",
       "      <td>30.549220</td>\n",
       "      <td>30.686186</td>\n",
       "      <td>30.376224</td>\n",
       "      <td>30.556812</td>\n",
       "      <td>3.346835e+07</td>\n",
       "    </tr>\n",
       "    <tr>\n",
       "      <th>min</th>\n",
       "      <td>55.424200</td>\n",
       "      <td>57.085700</td>\n",
       "      <td>55.014200</td>\n",
       "      <td>55.789900</td>\n",
       "      <td>1.147592e+07</td>\n",
       "    </tr>\n",
       "    <tr>\n",
       "      <th>25%</th>\n",
       "      <td>84.647800</td>\n",
       "      <td>85.334950</td>\n",
       "      <td>84.250650</td>\n",
       "      <td>84.830650</td>\n",
       "      <td>2.969438e+07</td>\n",
       "    </tr>\n",
       "    <tr>\n",
       "      <th>50%</th>\n",
       "      <td>108.970000</td>\n",
       "      <td>110.030000</td>\n",
       "      <td>108.050000</td>\n",
       "      <td>109.010000</td>\n",
       "      <td>4.566893e+07</td>\n",
       "    </tr>\n",
       "    <tr>\n",
       "      <th>75%</th>\n",
       "      <td>127.335000</td>\n",
       "      <td>128.100000</td>\n",
       "      <td>126.290000</td>\n",
       "      <td>127.120000</td>\n",
       "      <td>6.870872e+07</td>\n",
       "    </tr>\n",
       "    <tr>\n",
       "      <th>max</th>\n",
       "      <td>179.370000</td>\n",
       "      <td>180.100000</td>\n",
       "      <td>178.250000</td>\n",
       "      <td>179.260000</td>\n",
       "      <td>2.668336e+08</td>\n",
       "    </tr>\n",
       "  </tbody>\n",
       "</table>\n",
       "</div>"
      ],
      "text/plain": [
       "              open         high          low        close        volume\n",
       "count  1259.000000  1259.000000  1259.000000  1259.000000  1.259000e+03\n",
       "mean    109.055429   109.951118   108.141589   109.066698  5.404790e+07\n",
       "std      30.549220    30.686186    30.376224    30.556812  3.346835e+07\n",
       "min      55.424200    57.085700    55.014200    55.789900  1.147592e+07\n",
       "25%      84.647800    85.334950    84.250650    84.830650  2.969438e+07\n",
       "50%     108.970000   110.030000   108.050000   109.010000  4.566893e+07\n",
       "75%     127.335000   128.100000   126.290000   127.120000  6.870872e+07\n",
       "max     179.370000   180.100000   178.250000   179.260000  2.668336e+08"
      ]
     },
     "execution_count": 5,
     "metadata": {},
     "output_type": "execute_result"
    }
   ],
   "source": [
    "stock_a.describe()"
   ]
  },
  {
   "cell_type": "code",
   "execution_count": 6,
   "metadata": {},
   "outputs": [
    {
     "data": {
      "text/html": [
       "<div>\n",
       "<style scoped>\n",
       "    .dataframe tbody tr th:only-of-type {\n",
       "        vertical-align: middle;\n",
       "    }\n",
       "\n",
       "    .dataframe tbody tr th {\n",
       "        vertical-align: top;\n",
       "    }\n",
       "\n",
       "    .dataframe thead th {\n",
       "        text-align: right;\n",
       "    }\n",
       "</style>\n",
       "<table border=\"1\" class=\"dataframe\">\n",
       "  <thead>\n",
       "    <tr style=\"text-align: right;\">\n",
       "      <th></th>\n",
       "      <th>open</th>\n",
       "      <th>high</th>\n",
       "      <th>low</th>\n",
       "      <th>close</th>\n",
       "      <th>volume</th>\n",
       "    </tr>\n",
       "  </thead>\n",
       "  <tbody>\n",
       "    <tr>\n",
       "      <th>count</th>\n",
       "      <td>581.000000</td>\n",
       "      <td>581.000000</td>\n",
       "      <td>581.00000</td>\n",
       "      <td>581.000000</td>\n",
       "      <td>5.810000e+02</td>\n",
       "    </tr>\n",
       "    <tr>\n",
       "      <th>mean</th>\n",
       "      <td>15.912801</td>\n",
       "      <td>16.098331</td>\n",
       "      <td>15.75465</td>\n",
       "      <td>15.938468</td>\n",
       "      <td>1.257883e+07</td>\n",
       "    </tr>\n",
       "    <tr>\n",
       "      <th>std</th>\n",
       "      <td>3.610043</td>\n",
       "      <td>3.605121</td>\n",
       "      <td>3.60849</td>\n",
       "      <td>3.605471</td>\n",
       "      <td>6.867704e+06</td>\n",
       "    </tr>\n",
       "    <tr>\n",
       "      <th>min</th>\n",
       "      <td>9.090000</td>\n",
       "      <td>9.200000</td>\n",
       "      <td>8.91000</td>\n",
       "      <td>9.020000</td>\n",
       "      <td>1.715000e+05</td>\n",
       "    </tr>\n",
       "    <tr>\n",
       "      <th>25%</th>\n",
       "      <td>12.820000</td>\n",
       "      <td>13.020000</td>\n",
       "      <td>12.60000</td>\n",
       "      <td>12.950000</td>\n",
       "      <td>8.603605e+06</td>\n",
       "    </tr>\n",
       "    <tr>\n",
       "      <th>50%</th>\n",
       "      <td>15.180000</td>\n",
       "      <td>15.320000</td>\n",
       "      <td>15.03000</td>\n",
       "      <td>15.190000</td>\n",
       "      <td>1.115145e+07</td>\n",
       "    </tr>\n",
       "    <tr>\n",
       "      <th>75%</th>\n",
       "      <td>18.950000</td>\n",
       "      <td>19.100000</td>\n",
       "      <td>18.81000</td>\n",
       "      <td>18.960000</td>\n",
       "      <td>1.473763e+07</td>\n",
       "    </tr>\n",
       "    <tr>\n",
       "      <th>max</th>\n",
       "      <td>24.100000</td>\n",
       "      <td>24.100000</td>\n",
       "      <td>23.71000</td>\n",
       "      <td>23.910000</td>\n",
       "      <td>7.190858e+07</td>\n",
       "    </tr>\n",
       "  </tbody>\n",
       "</table>\n",
       "</div>"
      ],
      "text/plain": [
       "             open        high        low       close        volume\n",
       "count  581.000000  581.000000  581.00000  581.000000  5.810000e+02\n",
       "mean    15.912801   16.098331   15.75465   15.938468  1.257883e+07\n",
       "std      3.610043    3.605121    3.60849    3.605471  6.867704e+06\n",
       "min      9.090000    9.200000    8.91000    9.020000  1.715000e+05\n",
       "25%     12.820000   13.020000   12.60000   12.950000  8.603605e+06\n",
       "50%     15.180000   15.320000   15.03000   15.190000  1.115145e+07\n",
       "75%     18.950000   19.100000   18.81000   18.960000  1.473763e+07\n",
       "max     24.100000   24.100000   23.71000   23.910000  7.190858e+07"
      ]
     },
     "execution_count": 6,
     "metadata": {},
     "output_type": "execute_result"
    }
   ],
   "source": [
    "stock_b.describe()"
   ]
  },
  {
   "cell_type": "code",
   "execution_count": 7,
   "metadata": {},
   "outputs": [
    {
     "data": {
      "text/plain": [
       "dtype('float64')"
      ]
     },
     "execution_count": 7,
     "metadata": {},
     "output_type": "execute_result"
    }
   ],
   "source": [
    "stock_b.open.dtype"
   ]
  },
  {
   "cell_type": "code",
   "execution_count": 8,
   "metadata": {},
   "outputs": [],
   "source": [
    "b_dates = stock_b.date.unique()\n",
    "a_dates = stock_a.date.unique()"
   ]
  },
  {
   "cell_type": "code",
   "execution_count": 9,
   "metadata": {},
   "outputs": [
    {
     "data": {
      "text/plain": [
       "[]"
      ]
     },
     "execution_count": 9,
     "metadata": {},
     "output_type": "execute_result"
    }
   ],
   "source": [
    "res = [ele for ele in b_dates if ele not in a_dates]\n",
    "res"
   ]
  },
  {
   "cell_type": "code",
   "execution_count": 10,
   "metadata": {},
   "outputs": [
    {
     "data": {
      "text/plain": [
       "253"
      ]
     },
     "execution_count": 10,
     "metadata": {},
     "output_type": "execute_result"
    }
   ],
   "source": [
    "indices = [i for i in range(len(stock_a.index)) if i %5 == 0 or i == stock_a.index[-1]]\n",
    "len(indices)"
   ]
  },
  {
   "cell_type": "code",
   "execution_count": 11,
   "metadata": {},
   "outputs": [],
   "source": [
    "change = []\n",
    "dates = []\n",
    "for i in range(len(indices)-1):\n",
    "    opening = indices[i]\n",
    "    closing = indices[i+1]\n",
    "    change.append(stock_a.open.iloc[closing] - stock_a.close.iloc[opening])\n",
    "for i in range(len(indices)):\n",
    "    dates.append(stock_a.date.iloc[indices[i]])"
   ]
  },
  {
   "cell_type": "code",
   "execution_count": 12,
   "metadata": {},
   "outputs": [],
   "source": [
    "def percent_change(stock_df):\n",
    "    indices = [i for i in range(len(stock_df.index)) if i %5 == 0 or i == stock_df.index[-1]]\n",
    "    change = []\n",
    "    for i in range(len(indices)-1):\n",
    "        opening = indices[i]\n",
    "        closing = indices[i+1]\n",
    "        change.append((stock_df.close.iloc[closing] - stock_df.open.iloc[opening] / stock_df.open.iloc[opening]))\n",
    "    return change"
   ]
  },
  {
   "cell_type": "code",
   "execution_count": 13,
   "metadata": {},
   "outputs": [
    {
     "data": {
      "text/plain": [
       "[<matplotlib.lines.Line2D at 0x2bbc2734890>]"
      ]
     },
     "execution_count": 13,
     "metadata": {},
     "output_type": "execute_result"
    },
    {
     "data": {
      "image/png": "[encoded data removed]",
      "text/plain": [
       "<Figure size 640x480 with 1 Axes>"
      ]
     },
     "metadata": {},
     "output_type": "display_data"
    }
   ],
   "source": [
    "plt.plot(percent_change(stock_a))"
   ]
  },
  {
   "cell_type": "code",
   "execution_count": 25,
   "metadata": {},
   "outputs": [
    {
     "data": {
      "text/plain": [
       "581"
      ]
     },
     "execution_count": 25,
     "metadata": {},
     "output_type": "execute_result"
    }
   ],
   "source": [
    "len(stock_b.index)"
   ]
  },
  {
   "cell_type": "code",
   "execution_count": 14,
   "metadata": {},
   "outputs": [
    {
     "data": {
      "text/plain": [
       "[<matplotlib.lines.Line2D at 0x2bbc49221e0>]"
      ]
     },
     "execution_count": 14,
     "metadata": {},
     "output_type": "execute_result"
    },
    {
     "data": {
      "image/png": "[encoded data removed]",
      "text/plain": [
       "<Figure size 640x480 with 1 Axes>"
      ]
     },
     "metadata": {},
     "output_type": "display_data"
    }
   ],
   "source": [
    "plt.plot(percent_change(stock_b))"
   ]
  },
  {
   "cell_type": "code",
   "execution_count": 15,
   "metadata": {},
   "outputs": [
    {
     "data": {
      "text/html": [
       "<div>\n",
       "<style scoped>\n",
       "    .dataframe tbody tr th:only-of-type {\n",
       "        vertical-align: middle;\n",
       "    }\n",
       "\n",
       "    .dataframe tbody tr th {\n",
       "        vertical-align: top;\n",
       "    }\n",
       "\n",
       "    .dataframe thead th {\n",
       "        text-align: right;\n",
       "    }\n",
       "</style>\n",
       "<table border=\"1\" class=\"dataframe\">\n",
       "  <thead>\n",
       "    <tr style=\"text-align: right;\">\n",
       "      <th></th>\n",
       "      <th>date</th>\n",
       "      <th>open</th>\n",
       "      <th>high</th>\n",
       "      <th>low</th>\n",
       "      <th>close</th>\n",
       "      <th>volume</th>\n",
       "      <th>Name</th>\n",
       "      <th>daily_change</th>\n",
       "    </tr>\n",
       "  </thead>\n",
       "  <tbody>\n",
       "    <tr>\n",
       "      <th>0</th>\n",
       "      <td>2013-02-08</td>\n",
       "      <td>67.7142</td>\n",
       "      <td>68.4014</td>\n",
       "      <td>66.8928</td>\n",
       "      <td>67.8542</td>\n",
       "      <td>158168416</td>\n",
       "      <td>AAPL</td>\n",
       "      <td>0.1400</td>\n",
       "    </tr>\n",
       "    <tr>\n",
       "      <th>1</th>\n",
       "      <td>2013-02-11</td>\n",
       "      <td>68.0714</td>\n",
       "      <td>69.2771</td>\n",
       "      <td>67.6071</td>\n",
       "      <td>68.5614</td>\n",
       "      <td>129029425</td>\n",
       "      <td>AAPL</td>\n",
       "      <td>0.4900</td>\n",
       "    </tr>\n",
       "    <tr>\n",
       "      <th>2</th>\n",
       "      <td>2013-02-12</td>\n",
       "      <td>68.5014</td>\n",
       "      <td>68.9114</td>\n",
       "      <td>66.8205</td>\n",
       "      <td>66.8428</td>\n",
       "      <td>151829363</td>\n",
       "      <td>AAPL</td>\n",
       "      <td>-1.6586</td>\n",
       "    </tr>\n",
       "    <tr>\n",
       "      <th>3</th>\n",
       "      <td>2013-02-13</td>\n",
       "      <td>66.7442</td>\n",
       "      <td>67.6628</td>\n",
       "      <td>66.1742</td>\n",
       "      <td>66.7156</td>\n",
       "      <td>118721995</td>\n",
       "      <td>AAPL</td>\n",
       "      <td>-0.0286</td>\n",
       "    </tr>\n",
       "    <tr>\n",
       "      <th>4</th>\n",
       "      <td>2013-02-14</td>\n",
       "      <td>66.3599</td>\n",
       "      <td>67.3771</td>\n",
       "      <td>66.2885</td>\n",
       "      <td>66.6556</td>\n",
       "      <td>88809154</td>\n",
       "      <td>AAPL</td>\n",
       "      <td>0.2957</td>\n",
       "    </tr>\n",
       "  </tbody>\n",
       "</table>\n",
       "</div>"
      ],
      "text/plain": [
       "         date     open     high      low    close     volume  Name  \\\n",
       "0  2013-02-08  67.7142  68.4014  66.8928  67.8542  158168416  AAPL   \n",
       "1  2013-02-11  68.0714  69.2771  67.6071  68.5614  129029425  AAPL   \n",
       "2  2013-02-12  68.5014  68.9114  66.8205  66.8428  151829363  AAPL   \n",
       "3  2013-02-13  66.7442  67.6628  66.1742  66.7156  118721995  AAPL   \n",
       "4  2013-02-14  66.3599  67.3771  66.2885  66.6556   88809154  AAPL   \n",
       "\n",
       "   daily_change  \n",
       "0        0.1400  \n",
       "1        0.4900  \n",
       "2       -1.6586  \n",
       "3       -0.0286  \n",
       "4        0.2957  "
      ]
     },
     "execution_count": 15,
     "metadata": {},
     "output_type": "execute_result"
    }
   ],
   "source": [
    "stocks = pd.concat([stock_a, stock_b], ignore_index=True)\n",
    "stocks['daily_change'] = stocks['close'] - stocks['open']\n",
    "stocks.head()"
   ]
  },
  {
   "cell_type": "code",
   "execution_count": 16,
   "metadata": {},
   "outputs": [],
   "source": [
    "stock_a['daily_change'] = 100*(stock_a['close'] - stock_a['open'])/stock_a['open']\n",
    "stock_b['daily_change'] = 100*(stock_b['close'] - stock_b['open'])/stock_b['open']"
   ]
  },
  {
   "cell_type": "code",
   "execution_count": 17,
   "metadata": {},
   "outputs": [
    {
     "data": {
      "text/plain": [
       "[<matplotlib.lines.Line2D at 0x2bbc4996d20>]"
      ]
     },
     "execution_count": 17,
     "metadata": {},
     "output_type": "execute_result"
    },
    {
     "data": {
      "image/png": "[encoded data removed]",
      "text/plain": [
       "<Figure size 640x480 with 1 Axes>"
      ]
     },
     "metadata": {},
     "output_type": "display_data"
    }
   ],
   "source": [
    "plt.plot(stock_a['daily_change'])"
   ]
  },
  {
   "cell_type": "code",
   "execution_count": 18,
   "metadata": {},
   "outputs": [
    {
     "data": {
      "text/plain": [
       "[<matplotlib.lines.Line2D at 0x2bbc281a720>]"
      ]
     },
     "execution_count": 18,
     "metadata": {},
     "output_type": "execute_result"
    },
    {
     "data": {
      "image/png": "[encoded data removed]",
      "text/plain": [
       "<Figure size 640x480 with 1 Axes>"
      ]
     },
     "metadata": {},
     "output_type": "display_data"
    }
   ],
   "source": [
    "plt.plot(stock_b['daily_change'])"
   ]
  },
  {
   "cell_type": "code",
   "execution_count": 19,
   "metadata": {},
   "outputs": [],
   "source": [
    "corr = stock_a['close'].corr(stock_b['close'])"
   ]
  },
  {
   "cell_type": "code",
   "execution_count": 20,
   "metadata": {},
   "outputs": [
    {
     "data": {
      "text/plain": [
       "0.957253474734561"
      ]
     },
     "execution_count": 20,
     "metadata": {},
     "output_type": "execute_result"
    }
   ],
   "source": [
    "corr"
   ]
  },
  {
   "cell_type": "markdown",
   "metadata": {},
   "source": [
    "# Correlation here"
   ]
  },
  {
   "cell_type": "code",
   "execution_count": 21,
   "metadata": {},
   "outputs": [],
   "source": [
    "def correlation(stock_a, stock_b):\n",
    "    corr = stock_a['close'].corr(stock_b['close'])\n",
    "    return corr\n",
    "\n",
    "def csv_loader(filepath):\n",
    "    filenames = os.listdir(filepath)\n",
    "    csv_names = [filename for filename in filenames if filename.endswith('.csv')]\n",
    "    csv_files = {}\n",
    "    for name in csv_names:\n",
    "        df = pd.read_csv(filepath+name)\n",
    "        csv_files[df.Name.iloc[0]] = df\n",
    "    return csv_files"
   ]
  },
  {
   "cell_type": "code",
   "execution_count": 22,
   "metadata": {},
   "outputs": [
    {
     "data": {
      "text/plain": [
       "'c:\\\\Users\\\\lukes\\\\Desktop\\\\Schoolwork\\\\COP3530\\\\DeFAANG'"
      ]
     },
     "execution_count": 22,
     "metadata": {},
     "output_type": "execute_result"
    }
   ],
   "source": [
    "\n",
    "project_directory = os.path.dirname(os.path.abspath(\"main.py\")) \n",
    "stocks_directory = os.path.dirname(os.path.abspath(project_directory)) \n",
    "stocks_directory"
   ]
  },
  {
   "cell_type": "code",
   "execution_count": 23,
   "metadata": {},
   "outputs": [],
   "source": [
    "files = csv_loader(stocks_directory+'/individual_stocks_5yr/')"
   ]
  },
  {
   "cell_type": "code",
   "execution_count": 24,
   "metadata": {},
   "outputs": [
    {
     "ename": "TypeError",
     "evalue": "string indices must be integers, not 'str'",
     "output_type": "error",
     "traceback": [
      "\u001b[1;31m---------------------------------------------------------------------------\u001b[0m",
      "\u001b[1;31mTypeError\u001b[0m                                 Traceback (most recent call last)",
      "\u001b[1;32mc:\\Users\\lukes\\Desktop\\Schoolwork\\COP3530\\DeFAANG\\src_old\\DataCleaningTesting.ipynb Cell 25\u001b[0m line \u001b[0;36m7\n\u001b[0;32m      <a href='vscode-notebook-cell:/c%3A/Users/lukes/Desktop/Schoolwork/COP3530/DeFAANG/src_old/DataCleaningTesting.ipynb#X33sZmlsZQ%3D%3D?line=4'>5</a>\u001b[0m         \u001b[39mif\u001b[39;00m i \u001b[39m==\u001b[39m j:\n\u001b[0;32m      <a href='vscode-notebook-cell:/c%3A/Users/lukes/Desktop/Schoolwork/COP3530/DeFAANG/src_old/DataCleaningTesting.ipynb#X33sZmlsZQ%3D%3D?line=5'>6</a>\u001b[0m             \u001b[39mcontinue\u001b[39;00m\n\u001b[1;32m----> <a href='vscode-notebook-cell:/c%3A/Users/lukes/Desktop/Schoolwork/COP3530/DeFAANG/src_old/DataCleaningTesting.ipynb#X33sZmlsZQ%3D%3D?line=6'>7</a>\u001b[0m         adjacent_corrs[stock2\u001b[39m.\u001b[39mName\u001b[39m.\u001b[39miloc[\u001b[39m0\u001b[39m]] \u001b[39m=\u001b[39m correlation(stock1, stock2)\n\u001b[0;32m      <a href='vscode-notebook-cell:/c%3A/Users/lukes/Desktop/Schoolwork/COP3530/DeFAANG/src_old/DataCleaningTesting.ipynb#X33sZmlsZQ%3D%3D?line=7'>8</a>\u001b[0m     adj_list[stock1\u001b[39m.\u001b[39mName\u001b[39m.\u001b[39miloc[\u001b[39m0\u001b[39m]] \u001b[39m=\u001b[39m adjacent_corrs\n\u001b[0;32m     <a href='vscode-notebook-cell:/c%3A/Users/lukes/Desktop/Schoolwork/COP3530/DeFAANG/src_old/DataCleaningTesting.ipynb#X33sZmlsZQ%3D%3D?line=9'>10</a>\u001b[0m \u001b[39mwith\u001b[39;00m \u001b[39mopen\u001b[39m(\u001b[39m'\u001b[39m\u001b[39madj_list.pkl\u001b[39m\u001b[39m'\u001b[39m, \u001b[39m'\u001b[39m\u001b[39mwb\u001b[39m\u001b[39m'\u001b[39m) \u001b[39mas\u001b[39;00m file:\n",
      "\u001b[1;32mc:\\Users\\lukes\\Desktop\\Schoolwork\\COP3530\\DeFAANG\\src_old\\DataCleaningTesting.ipynb Cell 25\u001b[0m line \u001b[0;36m2\n\u001b[0;32m      <a href='vscode-notebook-cell:/c%3A/Users/lukes/Desktop/Schoolwork/COP3530/DeFAANG/src_old/DataCleaningTesting.ipynb#X33sZmlsZQ%3D%3D?line=0'>1</a>\u001b[0m \u001b[39mdef\u001b[39;00m \u001b[39mcorrelation\u001b[39m(stock_a, stock_b):\n\u001b[1;32m----> <a href='vscode-notebook-cell:/c%3A/Users/lukes/Desktop/Schoolwork/COP3530/DeFAANG/src_old/DataCleaningTesting.ipynb#X33sZmlsZQ%3D%3D?line=1'>2</a>\u001b[0m     corr \u001b[39m=\u001b[39m stock_a[\u001b[39m'\u001b[39;49m\u001b[39mclose\u001b[39;49m\u001b[39m'\u001b[39;49m]\u001b[39m.\u001b[39mcorr(stock_b[\u001b[39m'\u001b[39m\u001b[39mclose\u001b[39m\u001b[39m'\u001b[39m])\n\u001b[0;32m      <a href='vscode-notebook-cell:/c%3A/Users/lukes/Desktop/Schoolwork/COP3530/DeFAANG/src_old/DataCleaningTesting.ipynb#X33sZmlsZQ%3D%3D?line=2'>3</a>\u001b[0m     \u001b[39mreturn\u001b[39;00m corr\n",
      "\u001b[1;31mTypeError\u001b[0m: string indices must be integers, not 'str'"
     ]
    }
   ],
   "source": [
    "adj_list = {}\n",
    "for i, stock1 in enumerate(files):\n",
    "    adjacent_corrs = {}\n",
    "    for j, stock2 in enumerate(files):\n",
    "        if i == j:\n",
    "            continue\n",
    "        adjacent_corrs[stock2.Name.iloc[0]] = correlation(stock1, stock2)\n",
    "    adj_list[stock1.Name.iloc[0]] = adjacent_corrs\n",
    "    \n",
    "with open('adj_list.pkl', 'wb') as file:\n",
    "    pickle.dump(adj_list, file)"
   ]
  },
  {
   "cell_type": "code",
   "execution_count": null,
   "metadata": {},
   "outputs": [],
   "source": [
    "#Adjacency list for one stock\n",
    "adj_list['AAL']"
   ]
  },
  {
   "cell_type": "code",
   "execution_count": null,
   "metadata": {},
   "outputs": [],
   "source": [
    "#correlation of one stock to another\n",
    "adj_list['AAL']['AAPL']"
   ]
  },
  {
   "cell_type": "markdown",
   "metadata": {},
   "source": [
    "# Standard Dev, latest value by name"
   ]
  },
  {
   "cell_type": "code",
   "execution_count": null,
   "metadata": {},
   "outputs": [],
   "source": [
    "features = pd.DataFrame(columns = ['Name', 'StandDev', 'LastClosingVal'])\n",
    "for stock in files:\n",
    "    std_dev = stock.close.std()\n",
    "    name = stock.Name.iloc[0]\n",
    "    lastVal = stock.close.iloc[-1]\n",
    "    dict = {'Name' : name,'StandDev':std_dev, 'LastClosingVal' : lastVal}\n",
    "    ser = pd.Series(dict)\n",
    "    new_row_df = pd.DataFrame(ser).transpose()\n",
    "    features = pd.concat([features, new_row_df], ignore_index=True)"
   ]
  },
  {
   "cell_type": "code",
   "execution_count": null,
   "metadata": {},
   "outputs": [],
   "source": [
    "features.head()"
   ]
  },
  {
   "cell_type": "code",
   "execution_count": null,
   "metadata": {},
   "outputs": [],
   "source": [
    "features.to_csv('../clean_data/stocks_clean.csv')"
   ]
  },
  {
   "cell_type": "markdown",
   "metadata": {},
   "source": [
    "### Testing Adjacency matrix class"
   ]
  },
  {
   "cell_type": "code",
   "execution_count": null,
   "metadata": {
    "collapsed": false
   },
   "outputs": [],
   "source": [
    "import pandas as pd\n",
    "import itertools\n",
    "\n",
    "class Graph:\n",
    "    def __init__(self):\n",
    "        self.adjacency_matrix = {}\n",
    "        self.vertex_count = 0\n",
    "\n",
    "    def add_vertex(self, vertex):\n",
    "        if vertex not in self.adjacency_matrix:\n",
    "            self.adjacency_matrix[vertex] = {}\n",
    "            for v in self.adjacency_matrix:\n",
    "                if v != vertex:\n",
    "                    self.adjacency_matrix[v][vertex] = 0\n",
    "                    self.adjacency_matrix[vertex][v] = 0\n",
    "            self.vertex_count += 1\n",
    "            self.adjacency_matrix[vertex] = {v: 0 for v in self.adjacency_matrix}\n",
    "\n",
    "    def add_edge(self, from_vertex, to_vertex, weight):\n",
    "        # Check for self-loop and parallel edges\n",
    "        if from_vertex != to_vertex and self.adjacency_matrix[from_vertex][to_vertex] == 0:\n",
    "            self.adjacency_matrix[from_vertex][to_vertex] = weight\n",
    "            self.adjacency_matrix[to_vertex][from_vertex] = weight \n",
    "        else:\n",
    "            print(\"Edge not added.\")\n",
    "\n",
    "    def get_index(self, vertex):\n",
    "        return self.adjacency_matrix[vertex]\n",
    "\n",
    "    def print_matrix(self):\n",
    "        print(\"Adjacency Matrix:\")\n",
    "        for vertex, edges in sorted(self.adjacency_matrix.items()):\n",
    "            print(f\"{vertex}: {edges}\")\n",
    "\n",
    "    def get_weight(self, from_vertex, to_vertex):\n",
    "        return self.adjacency_matrix[from_vertex][to_vertex]\n",
    "\n",
    "def correlation(stock_a, stock_b):\n",
    "    corr = stock_a['close'].corr(stock_b['close'])\n",
    "    return corr\n",
    "\n",
    "def build_graph(csv_list, graph):\n",
    "\n",
    "    vertices = csv_list.keys()\n",
    "    for vertex in vertices:\n",
    "        graph.add_vertex(vertex)\n",
    "    \n",
    "    edges = itertools.combinations(vertices,2)\n",
    "    for edge in edges:\n",
    "        weight = correlation(csv_list[edge[0]], csv_list[edge[1]])\n",
    "        graph.add_edge(edge[0], edge[1], weight)\n",
    "\n",
    "    #graph.print_matrix()\n",
    "    weight = graph.get_weight('A','AAPL')\n",
    "    print(weight)\n"
   ]
  },
  {
   "cell_type": "code",
   "execution_count": null,
   "metadata": {},
   "outputs": [],
   "source": [
    "graph = Graph()\n",
    "\n",
    "build_graph(files, graph)"
   ]
  }
 ],
 "metadata": {
  "kernelspec": {
   "display_name": "Python 3",
   "language": "python",
   "name": "python3"
  },
  "language_info": {
   "codemirror_mode": {
    "name": "ipython",
    "version": 3
   },
   "file_extension": ".py",
   "mimetype": "text/x-python",
   "name": "python",
   "nbconvert_exporter": "python",
   "pygments_lexer": "ipython3",
   "version": "3.12.0"
  }
 },
 "nbformat": 4,
 "nbformat_minor": 2
}
